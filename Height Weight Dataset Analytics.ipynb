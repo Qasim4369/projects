{
 "cells": [
  {
   "cell_type": "markdown",
   "id": "5c5743b0",
   "metadata": {},
   "source": [
    "## M.Qasim Shafiq\n",
    "### Week 2 Day 1"
   ]
  },
  {
   "cell_type": "code",
   "execution_count": 26,
   "id": "3b42bdcb",
   "metadata": {},
   "outputs": [],
   "source": [
    "import pandas as pd\n",
    "import numpy as np\n",
    "from scipy.stats import skew\n",
    "from scipy.stats import kurtosis\n",
    "import statistics"
   ]
  },
  {
   "cell_type": "code",
   "execution_count": 3,
   "id": "c02efdde",
   "metadata": {},
   "outputs": [],
   "source": [
    "df = pd.read_csv('SOCR-HeightWeight.csv')"
   ]
  },
  {
   "cell_type": "code",
   "execution_count": 9,
   "id": "0a7171f8",
   "metadata": {},
   "outputs": [
    {
     "data": {
      "text/html": [
       "<div>\n",
       "<style scoped>\n",
       "    .dataframe tbody tr th:only-of-type {\n",
       "        vertical-align: middle;\n",
       "    }\n",
       "\n",
       "    .dataframe tbody tr th {\n",
       "        vertical-align: top;\n",
       "    }\n",
       "\n",
       "    .dataframe thead th {\n",
       "        text-align: right;\n",
       "    }\n",
       "</style>\n",
       "<table border=\"1\" class=\"dataframe\">\n",
       "  <thead>\n",
       "    <tr style=\"text-align: right;\">\n",
       "      <th></th>\n",
       "      <th>Index</th>\n",
       "      <th>Height(Inches)</th>\n",
       "      <th>Weight(Pounds)</th>\n",
       "    </tr>\n",
       "  </thead>\n",
       "  <tbody>\n",
       "    <tr>\n",
       "      <th>count</th>\n",
       "      <td>25000.000000</td>\n",
       "      <td>25000.000000</td>\n",
       "      <td>25000.000000</td>\n",
       "    </tr>\n",
       "    <tr>\n",
       "      <th>mean</th>\n",
       "      <td>12500.500000</td>\n",
       "      <td>67.993114</td>\n",
       "      <td>127.079421</td>\n",
       "    </tr>\n",
       "    <tr>\n",
       "      <th>std</th>\n",
       "      <td>7217.022701</td>\n",
       "      <td>1.901679</td>\n",
       "      <td>11.660898</td>\n",
       "    </tr>\n",
       "    <tr>\n",
       "      <th>min</th>\n",
       "      <td>1.000000</td>\n",
       "      <td>60.278360</td>\n",
       "      <td>78.014760</td>\n",
       "    </tr>\n",
       "    <tr>\n",
       "      <th>25%</th>\n",
       "      <td>6250.750000</td>\n",
       "      <td>66.704397</td>\n",
       "      <td>119.308675</td>\n",
       "    </tr>\n",
       "    <tr>\n",
       "      <th>50%</th>\n",
       "      <td>12500.500000</td>\n",
       "      <td>67.995700</td>\n",
       "      <td>127.157750</td>\n",
       "    </tr>\n",
       "    <tr>\n",
       "      <th>75%</th>\n",
       "      <td>18750.250000</td>\n",
       "      <td>69.272958</td>\n",
       "      <td>134.892850</td>\n",
       "    </tr>\n",
       "    <tr>\n",
       "      <th>max</th>\n",
       "      <td>25000.000000</td>\n",
       "      <td>75.152800</td>\n",
       "      <td>170.924000</td>\n",
       "    </tr>\n",
       "  </tbody>\n",
       "</table>\n",
       "</div>"
      ],
      "text/plain": [
       "              Index  Height(Inches)  Weight(Pounds)\n",
       "count  25000.000000    25000.000000    25000.000000\n",
       "mean   12500.500000       67.993114      127.079421\n",
       "std     7217.022701        1.901679       11.660898\n",
       "min        1.000000       60.278360       78.014760\n",
       "25%     6250.750000       66.704397      119.308675\n",
       "50%    12500.500000       67.995700      127.157750\n",
       "75%    18750.250000       69.272958      134.892850\n",
       "max    25000.000000       75.152800      170.924000"
      ]
     },
     "execution_count": 9,
     "metadata": {},
     "output_type": "execute_result"
    }
   ],
   "source": [
    "# Easy Way to calculate mean,median and standard deviation\n",
    "df.describe()"
   ]
  },
  {
   "cell_type": "code",
   "execution_count": 18,
   "id": "36c4dccd",
   "metadata": {},
   "outputs": [
    {
     "name": "stdout",
     "output_type": "stream",
     "text": [
      "67.99311359679999\n",
      "127.07942116080001\n"
     ]
    }
   ],
   "source": [
    "# Mean using numpy\n",
    "arrH = np.array(df['Height(Inches)'])\n",
    "arrW = np.array(df['Weight(Pounds)'])\n",
    "print(np.mean(arrH))\n",
    "print(np.mean(arrW))"
   ]
  },
  {
   "cell_type": "code",
   "execution_count": 19,
   "id": "d5fc44d0",
   "metadata": {},
   "outputs": [
    {
     "name": "stdout",
     "output_type": "stream",
     "text": [
      "67.9957\n",
      "127.15775\n"
     ]
    }
   ],
   "source": [
    "# Median using Numpy\n",
    "print(np.median(arrH))\n",
    "print(np.median(arrW))"
   ]
  },
  {
   "cell_type": "code",
   "execution_count": 20,
   "id": "42dce5a1",
   "metadata": {},
   "outputs": [
    {
     "name": "stdout",
     "output_type": "stream",
     "text": [
      "1.9016407372498432\n",
      "11.66066434332078\n"
     ]
    }
   ],
   "source": [
    "# Standard Deviation\n",
    "print(np.std(arrH))\n",
    "print(np.std(arrW))"
   ]
  },
  {
   "cell_type": "code",
   "execution_count": 24,
   "id": "4bbd4dea",
   "metadata": {},
   "outputs": [
    {
     "name": "stdout",
     "output_type": "stream",
     "text": [
      "-0.005657639882518977\n",
      "-0.026029783883831488\n"
     ]
    }
   ],
   "source": [
    "# Skewness using Scipy\n",
    "print(skew(arrH, axis=0, bias=True))\n",
    "print(skew(arrW, axis=0, bias=True))"
   ]
  },
  {
   "cell_type": "markdown",
   "id": "178eb46d",
   "metadata": {},
   "source": [
    "#### Both Height and Weight are right tail heavy"
   ]
  },
  {
   "cell_type": "code",
   "execution_count": 27,
   "id": "1f46494f",
   "metadata": {},
   "outputs": [
    {
     "name": "stdout",
     "output_type": "stream",
     "text": [
      "-0.03539236835811055\n",
      "0.044491674304663054\n"
     ]
    }
   ],
   "source": [
    "# Kurtosis\n",
    "print(kurtosis(arrH, axis=0, bias=True))\n",
    "print(kurtosis(arrW, axis=0, bias=True))"
   ]
  },
  {
   "cell_type": "markdown",
   "id": "29d5e302",
   "metadata": {},
   "source": [
    "#### Data is Playkurtic"
   ]
  }
 ],
 "metadata": {
  "kernelspec": {
   "display_name": "Python 3 (ipykernel)",
   "language": "python",
   "name": "python3"
  },
  "language_info": {
   "codemirror_mode": {
    "name": "ipython",
    "version": 3
   },
   "file_extension": ".py",
   "mimetype": "text/x-python",
   "name": "python",
   "nbconvert_exporter": "python",
   "pygments_lexer": "ipython3",
   "version": "3.9.12"
  }
 },
 "nbformat": 4,
 "nbformat_minor": 5
}
