{
 "cells": [
  {
   "cell_type": "markdown",
   "id": "b0d4a104",
   "metadata": {},
   "source": [
    "## M.Qasim Shafiq\n",
    "## Day 3\n",
    "## Task1"
   ]
  },
  {
   "cell_type": "code",
   "execution_count": 4,
   "id": "4187a746",
   "metadata": {},
   "outputs": [],
   "source": [
    "from bs4 import BeautifulSoup\n",
    "import pandas as pd\n",
    "from urllib.request import Request, urlopen\n",
    "url = \"https://www.daftlogic.com/information-appliance-power-consumption.htm\"\n",
    "req = Request(url=url, headers={'User-Agent': 'Mozilla/5.0'})\n",
    "page = urlopen(req).read()\n",
    "dat = BeautifulSoup(page, 'html.parser')\n",
    "table = dat.find('table', id=\"tblApp\")"
   ]
  },
  {
   "cell_type": "code",
   "execution_count": 6,
   "id": "1368d277",
   "metadata": {},
   "outputs": [
    {
     "data": {
      "text/html": [
       "<div>\n",
       "<style scoped>\n",
       "    .dataframe tbody tr th:only-of-type {\n",
       "        vertical-align: middle;\n",
       "    }\n",
       "\n",
       "    .dataframe tbody tr th {\n",
       "        vertical-align: top;\n",
       "    }\n",
       "\n",
       "    .dataframe thead th {\n",
       "        text-align: right;\n",
       "    }\n",
       "</style>\n",
       "<table border=\"1\" class=\"dataframe\">\n",
       "  <thead>\n",
       "    <tr style=\"text-align: right;\">\n",
       "      <th></th>\n",
       "      <th>Appliance</th>\n",
       "      <th>Minimum</th>\n",
       "      <th>Maximum</th>\n",
       "      <th>Standby</th>\n",
       "      <th>Other Name(s)</th>\n",
       "      <th>References</th>\n",
       "      <th>Notes</th>\n",
       "    </tr>\n",
       "  </thead>\n",
       "  <tbody>\n",
       "    <tr>\n",
       "      <th>0</th>\n",
       "      <td>100W light bulb (Incandescent)</td>\n",
       "      <td>100W</td>\n",
       "      <td>100W</td>\n",
       "      <td>0W</td>\n",
       "      <td>NaN</td>\n",
       "      <td>[1]</td>\n",
       "      <td>NaN</td>\n",
       "    </tr>\n",
       "    <tr>\n",
       "      <th>1</th>\n",
       "      <td>22 Inch LED TV</td>\n",
       "      <td>17W</td>\n",
       "      <td>17W</td>\n",
       "      <td>0.5W</td>\n",
       "      <td>NaN</td>\n",
       "      <td>NaN</td>\n",
       "      <td>NaN</td>\n",
       "    </tr>\n",
       "    <tr>\n",
       "      <th>2</th>\n",
       "      <td>25\" colour TV</td>\n",
       "      <td>150W</td>\n",
       "      <td>150W</td>\n",
       "      <td>NaN</td>\n",
       "      <td>NaN</td>\n",
       "      <td>NaN</td>\n",
       "      <td>NaN</td>\n",
       "    </tr>\n",
       "    <tr>\n",
       "      <th>3</th>\n",
       "      <td>3\" belt sander</td>\n",
       "      <td>1000W</td>\n",
       "      <td>1000W</td>\n",
       "      <td>NaN</td>\n",
       "      <td>NaN</td>\n",
       "      <td>NaN</td>\n",
       "      <td>NaN</td>\n",
       "    </tr>\n",
       "    <tr>\n",
       "      <th>4</th>\n",
       "      <td>32 Inch LED TV</td>\n",
       "      <td>20W</td>\n",
       "      <td>60W</td>\n",
       "      <td>1W</td>\n",
       "      <td>NaN</td>\n",
       "      <td>NaN</td>\n",
       "      <td>NaN</td>\n",
       "    </tr>\n",
       "  </tbody>\n",
       "</table>\n",
       "</div>"
      ],
      "text/plain": [
       "                        Appliance Minimum Maximum Standby Other Name(s)  \\\n",
       "0  100W light bulb (Incandescent)    100W    100W      0W           NaN   \n",
       "1                  22 Inch LED TV     17W     17W    0.5W           NaN   \n",
       "2                   25\" colour TV    150W    150W     NaN           NaN   \n",
       "3                  3\" belt sander   1000W   1000W     NaN           NaN   \n",
       "4                  32 Inch LED TV     20W     60W      1W           NaN   \n",
       "\n",
       "  References Notes  \n",
       "0        [1]   NaN  \n",
       "1        NaN   NaN  \n",
       "2        NaN   NaN  \n",
       "3        NaN   NaN  \n",
       "4        NaN   NaN  "
      ]
     },
     "execution_count": 6,
     "metadata": {},
     "output_type": "execute_result"
    }
   ],
   "source": [
    "df = pd.read_html(str(table))[0]\n",
    "df.head()"
   ]
  },
  {
   "cell_type": "code",
   "execution_count": 7,
   "id": "cc249cea",
   "metadata": {},
   "outputs": [],
   "source": [
    "## SAVE TO CSV\n",
    "df.to_csv(\"appliances.csv\")"
   ]
  },
  {
   "cell_type": "markdown",
   "id": "00add6b8",
   "metadata": {},
   "source": [
    "## Task 2"
   ]
  },
  {
   "cell_type": "code",
   "execution_count": 9,
   "id": "ac26e1ff",
   "metadata": {},
   "outputs": [],
   "source": [
    "## Import Data\n",
    "df = pd.read_csv(\"iris.csv\")"
   ]
  },
  {
   "cell_type": "code",
   "execution_count": 13,
   "id": "6594a26b",
   "metadata": {},
   "outputs": [
    {
     "data": {
      "text/plain": [
       "Species\n",
       "Iris-setosa        5.006\n",
       "Iris-versicolor    5.936\n",
       "Iris-virginica     6.588\n",
       "Name: SepalLengthCm, dtype: float64"
      ]
     },
     "execution_count": 13,
     "metadata": {},
     "output_type": "execute_result"
    }
   ],
   "source": [
    "## Average sepal length for each species\n",
    "avg = df.groupby('Species')['SepalLengthCm'].mean()\n",
    "avg"
   ]
  },
  {
   "cell_type": "code",
   "execution_count": 16,
   "id": "a7f2136c",
   "metadata": {},
   "outputs": [
    {
     "data": {
      "text/plain": [
       "0.8717541573048714"
      ]
     },
     "execution_count": 16,
     "metadata": {},
     "output_type": "execute_result"
    }
   ],
   "source": [
    "## Correlation between sepal length and petal length\n",
    "cor = df['SepalLengthCm'].corr(df['PetalLengthCm'])\n",
    "cor"
   ]
  },
  {
   "cell_type": "code",
   "execution_count": 20,
   "id": "b32ee9d2",
   "metadata": {},
   "outputs": [
    {
     "data": {
      "text/plain": [
       "Species\n",
       "Iris-setosa        1.9\n",
       "Iris-versicolor    5.1\n",
       "Iris-virginica     6.9\n",
       "Name: PetalLengthCm, dtype: float64"
      ]
     },
     "execution_count": 20,
     "metadata": {},
     "output_type": "execute_result"
    }
   ],
   "source": [
    "## Species of iris with the largest petals\n",
    "larg = df.groupby('Species')['PetalLengthCm'].max()\n",
    "larg"
   ]
  },
  {
   "cell_type": "code",
   "execution_count": 22,
   "id": "dd7286cc",
   "metadata": {},
   "outputs": [
    {
     "data": {
      "text/plain": [
       "'Iris-virginica'"
      ]
     },
     "execution_count": 22,
     "metadata": {},
     "output_type": "execute_result"
    }
   ],
   "source": [
    "## Iris-virginica has the largest petals\n",
    "larg.idxmax()"
   ]
  }
 ],
 "metadata": {
  "kernelspec": {
   "display_name": "Python 3 (ipykernel)",
   "language": "python",
   "name": "python3"
  },
  "language_info": {
   "codemirror_mode": {
    "name": "ipython",
    "version": 3
   },
   "file_extension": ".py",
   "mimetype": "text/x-python",
   "name": "python",
   "nbconvert_exporter": "python",
   "pygments_lexer": "ipython3",
   "version": "3.9.12"
  }
 },
 "nbformat": 4,
 "nbformat_minor": 5
}
