{
 "cells": [
  {
   "cell_type": "code",
   "execution_count": 1,
   "id": "d2c6c062",
   "metadata": {},
   "outputs": [],
   "source": [
    "import tensorflow as tf\n",
    "from tensorflow.keras import datasets, layers ,models\n",
    "import matplotlib.pyplot as plt\n",
    "import numpy as np"
   ]
  },
  {
   "cell_type": "code",
   "execution_count": 40,
   "id": "8de4d101",
   "metadata": {},
   "outputs": [],
   "source": [
    "## Load database\n",
    "(X_train, y_train), (X_test,y_test) = datasets.cifar10.load_data()"
   ]
  },
  {
   "cell_type": "code",
   "execution_count": 5,
   "id": "9bbfb781",
   "metadata": {},
   "outputs": [
    {
     "data": {
      "text/plain": [
       "(10000, 32, 32, 3)"
      ]
     },
     "execution_count": 5,
     "metadata": {},
     "output_type": "execute_result"
    }
   ],
   "source": [
    "X_test.shape"
   ]
  },
  {
   "cell_type": "code",
   "execution_count": 19,
   "id": "319428b0",
   "metadata": {},
   "outputs": [],
   "source": [
    "## Flattening Y_train\n",
    "y_train = y_train.reshape(-1,)"
   ]
  },
  {
   "cell_type": "code",
   "execution_count": 20,
   "id": "ac67cfe0",
   "metadata": {},
   "outputs": [
    {
     "data": {
      "text/plain": [
       "'truck'"
      ]
     },
     "execution_count": 20,
     "metadata": {},
     "output_type": "execute_result"
    }
   ],
   "source": [
    "## Define Classes\n",
    "classes = ['airplane',\n",
    "'automobile',\n",
    "'bird',\n",
    "'cat',\n",
    "'deer',\n",
    "'dog',\n",
    "'frog',\n",
    "'horse',\n",
    "'ship',\n",
    "'truck']\n",
    "classes[9]"
   ]
  },
  {
   "cell_type": "code",
   "execution_count": 21,
   "id": "3a48bb76",
   "metadata": {},
   "outputs": [],
   "source": [
    "## Function for displaying picture and label\n",
    "def plot(X,y,index):\n",
    "    plt.figure(figsize= (15,2))\n",
    "    plt.imshow(X[index])\n",
    "    plt.xlabel(classes[y[index]])"
   ]
  },
  {
   "cell_type": "code",
   "execution_count": 26,
   "id": "65f0395d",
   "metadata": {},
   "outputs": [
    {
     "data": {
      "image/png": "[encoded data removed]",
      "text/plain": [
       "<Figure size 1080x144 with 1 Axes>"
      ]
     },
     "metadata": {
      "needs_background": "light"
     },
     "output_type": "display_data"
    }
   ],
   "source": [
    "plot(X_train,y_train,65)"
   ]
  },
  {
   "cell_type": "code",
   "execution_count": 27,
   "id": "889bb563",
   "metadata": {},
   "outputs": [],
   "source": [
    "## Normalization\n",
    "X_train=X_train/255\n",
    "X_test=X_test/255"
   ]
  },
  {
   "cell_type": "code",
   "execution_count": 28,
   "id": "b11dda15",
   "metadata": {},
   "outputs": [
    {
     "name": "stdout",
     "output_type": "stream",
     "text": [
      "Epoch 1/10\n",
      "1563/1563 [==============================] - 106s 67ms/step - loss: 1.8145 - accuracy: 0.3506 - val_loss: 1.6616 - val_accuracy: 0.4125\n",
      "Epoch 2/10\n",
      "1563/1563 [==============================] - 83s 53ms/step - loss: 1.6208 - accuracy: 0.4277 - val_loss: 1.6783 - val_accuracy: 0.3914\n",
      "Epoch 3/10\n",
      "1563/1563 [==============================] - 85s 54ms/step - loss: 1.5416 - accuracy: 0.4564 - val_loss: 1.6310 - val_accuracy: 0.4136\n",
      "Epoch 4/10\n",
      "1563/1563 [==============================] - 84s 54ms/step - loss: 1.4804 - accuracy: 0.4770 - val_loss: 1.4960 - val_accuracy: 0.4655\n",
      "Epoch 5/10\n",
      "1563/1563 [==============================] - 84s 54ms/step - loss: 1.4304 - accuracy: 0.4979 - val_loss: 1.4479 - val_accuracy: 0.4853\n",
      "Epoch 6/10\n",
      "1563/1563 [==============================] - 84s 54ms/step - loss: 1.3886 - accuracy: 0.5125 - val_loss: 1.5152 - val_accuracy: 0.4659\n",
      "Epoch 7/10\n",
      "1563/1563 [==============================] - 84s 54ms/step - loss: 1.3509 - accuracy: 0.5243 - val_loss: 1.4578 - val_accuracy: 0.4841\n",
      "Epoch 8/10\n",
      "1563/1563 [==============================] - 83s 53ms/step - loss: 1.3146 - accuracy: 0.5382 - val_loss: 1.4523 - val_accuracy: 0.4860\n",
      "Epoch 9/10\n",
      "1563/1563 [==============================] - 82s 53ms/step - loss: 1.2837 - accuracy: 0.5520 - val_loss: 1.4743 - val_accuracy: 0.4778\n",
      "Epoch 10/10\n",
      "1563/1563 [==============================] - 83s 53ms/step - loss: 1.2517 - accuracy: 0.5625 - val_loss: 1.4387 - val_accuracy: 0.4829\n"
     ]
    },
    {
     "ename": "NameError",
     "evalue": "name 'x_test' is not defined",
     "output_type": "error",
     "traceback": [
      "\u001b[1;31m---------------------------------------------------------------------------\u001b[0m",
      "\u001b[1;31mNameError\u001b[0m                                 Traceback (most recent call last)",
      "Input \u001b[1;32mIn [28]\u001b[0m, in \u001b[0;36m<cell line: 17>\u001b[1;34m()\u001b[0m\n\u001b[0;32m     14\u001b[0m model\u001b[38;5;241m.\u001b[39mfit(X_train, y_train, epochs\u001b[38;5;241m=\u001b[39mepochs, batch_size\u001b[38;5;241m=\u001b[39mbatch_size, validation_data\u001b[38;5;241m=\u001b[39m(X_test, y_test))\n\u001b[0;32m     16\u001b[0m \u001b[38;5;66;03m# Evaluate the model\u001b[39;00m\n\u001b[1;32m---> 17\u001b[0m test_loss, test_accuracy \u001b[38;5;241m=\u001b[39m model\u001b[38;5;241m.\u001b[39mevaluate(\u001b[43mx_test\u001b[49m, y_test)\n\u001b[0;32m     18\u001b[0m \u001b[38;5;28mprint\u001b[39m(\u001b[38;5;124mf\u001b[39m\u001b[38;5;124m\"\u001b[39m\u001b[38;5;124mTest accuracy: \u001b[39m\u001b[38;5;132;01m{\u001b[39;00mtest_accuracy\u001b[38;5;132;01m}\u001b[39;00m\u001b[38;5;124m\"\u001b[39m)\n",
      "\u001b[1;31mNameError\u001b[0m: name 'x_test' is not defined"
     ]
    }
   ],
   "source": [
    "## Testing Artificial neural network \n",
    "model = models.Sequential([\n",
    "    layers.Flatten(input_shape=(32, 32, 3)),\n",
    "    layers.Dense(3000, activation='relu'),\n",
    "    layers.Dense(1000, activation='relu'),\n",
    "    layers.Dense(10, activation='sigmoid')\n",
    "])\n",
    "# Compile the model\n",
    "model.compile(optimizer='SGD', loss='sparse_categorical_crossentropy', metrics=['accuracy'])\n",
    "\n",
    "# Train the model\n",
    "epochs = 10\n",
    "batch_size = 32\n",
    "model.fit(X_train, y_train, epochs=epochs, batch_size=batch_size, validation_data=(X_test, y_test))\n"
   ]
  },
  {
   "cell_type": "code",
   "execution_count": 29,
   "id": "a4970f88",
   "metadata": {},
   "outputs": [
    {
     "name": "stdout",
     "output_type": "stream",
     "text": [
      "313/313 [==============================] - 4s 12ms/step - loss: 1.4387 - accuracy: 0.4829\n",
      "Test accuracy: 0.4828999936580658\n"
     ]
    }
   ],
   "source": [
    "# Evaluate the model\n",
    "test_loss, test_accuracy = model.evaluate(X_test, y_test)\n",
    "print(f\"Test accuracy: {test_accuracy}\")"
   ]
  },
  {
   "cell_type": "code",
   "execution_count": 30,
   "id": "da46e2b7",
   "metadata": {},
   "outputs": [
    {
     "name": "stdout",
     "output_type": "stream",
     "text": [
      "313/313 [==============================] - 4s 11ms/step\n",
      "Classification Report: \n",
      "               precision    recall  f1-score   support\n",
      "\n",
      "           0       0.55      0.62      0.58      1000\n",
      "           1       0.70      0.60      0.64      1000\n",
      "           2       0.40      0.34      0.37      1000\n",
      "           3       0.37      0.30      0.33      1000\n",
      "           4       0.62      0.16      0.26      1000\n",
      "           5       0.57      0.19      0.29      1000\n",
      "           6       0.30      0.90      0.45      1000\n",
      "           7       0.74      0.45      0.56      1000\n",
      "           8       0.61      0.67      0.64      1000\n",
      "           9       0.57      0.59      0.58      1000\n",
      "\n",
      "    accuracy                           0.48     10000\n",
      "   macro avg       0.54      0.48      0.47     10000\n",
      "weighted avg       0.54      0.48      0.47     10000\n",
      "\n"
     ]
    }
   ],
   "source": [
    "## Classification Report\n",
    "from sklearn.metrics import confusion_matrix ,classification_report\n",
    "y_pred = model.predict(X_test)\n",
    "y_pred_classes=[np.argmax(element)for element in y_pred]\n",
    "print('Classification Report: \\n',classification_report(y_test,y_pred_classes))"
   ]
  },
  {
   "cell_type": "code",
   "execution_count": 32,
   "id": "98227098",
   "metadata": {
    "scrolled": true
   },
   "outputs": [
    {
     "name": "stdout",
     "output_type": "stream",
     "text": [
      "Epoch 1/5\n",
      "1563/1563 [==============================] - 29s 18ms/step - loss: 1.6233 - accuracy: 0.4024\n",
      "Epoch 2/5\n",
      "1563/1563 [==============================] - 28s 18ms/step - loss: 1.2892 - accuracy: 0.5396\n",
      "Epoch 3/5\n",
      "1563/1563 [==============================] - 28s 18ms/step - loss: 1.1611 - accuracy: 0.5904\n",
      "Epoch 4/5\n",
      "1563/1563 [==============================] - 29s 18ms/step - loss: 1.0817 - accuracy: 0.6206\n",
      "Epoch 5/5\n",
      "1563/1563 [==============================] - 28s 18ms/step - loss: 1.0240 - accuracy: 0.6429\n"
     ]
    },
    {
     "data": {
      "text/plain": [
       "<keras.callbacks.History at 0x2b8e4d82a60>"
      ]
     },
     "execution_count": 32,
     "metadata": {},
     "output_type": "execute_result"
    }
   ],
   "source": [
    "## Testing Convolution Neural Network\n",
    "cnn = models.Sequential([\n",
    "    #cnn\n",
    "    layers.Conv2D(filters=32,kernel_size=(3,3),activation ='relu',input_shape = (32,32,3)),\n",
    "    layers.MaxPooling2D((2,2)),\n",
    "    layers.Conv2D(filters=32,kernel_size=(3,3),activation ='relu',input_shape = (32,32,3)),\n",
    "    layers.MaxPooling2D((2,2)),\n",
    "    layers.Conv2D(filters=32,kernel_size=(3,3),activation ='relu',input_shape = (32,32,3)),\n",
    "    layers.MaxPooling2D((2,2)),\n",
    "    #dense\n",
    "    layers.Flatten(input_shape=(32, 32, 3)),\n",
    "    layers.Dense(64, activation='relu'),\n",
    "    layers.Dense(10, activation='softmax')\n",
    "])\n",
    "# Compile the model\n",
    "cnn.compile(optimizer='adam', loss='sparse_categorical_crossentropy', metrics=['accuracy'])\n",
    "\n",
    "# Train the model\n",
    "epochs = 5\n",
    "cnn.fit(X_train, y_train, epochs=epochs,)\n"
   ]
  },
  {
   "cell_type": "code",
   "execution_count": 33,
   "id": "4aa0d0a2",
   "metadata": {},
   "outputs": [
    {
     "name": "stdout",
     "output_type": "stream",
     "text": [
      "313/313 [==============================] - 2s 7ms/step - loss: 1.0357 - accuracy: 0.6321\n",
      "Test accuracy: 0.632099986076355\n"
     ]
    }
   ],
   "source": [
    "# Evaluate the model\n",
    "test_loss, test_accuracy = cnn.evaluate(X_test, y_test)\n",
    "print(f\"Test accuracy: {test_accuracy}\")"
   ]
  },
  {
   "cell_type": "code",
   "execution_count": 34,
   "id": "3b277d93",
   "metadata": {},
   "outputs": [
    {
     "name": "stdout",
     "output_type": "stream",
     "text": [
      "313/313 [==============================] - 2s 6ms/step\n",
      "Classification Report: \n",
      "               precision    recall  f1-score   support\n",
      "\n",
      "           0       0.73      0.64      0.68      1000\n",
      "           1       0.68      0.84      0.75      1000\n",
      "           2       0.58      0.42      0.49      1000\n",
      "           3       0.44      0.47      0.45      1000\n",
      "           4       0.65      0.44      0.53      1000\n",
      "           5       0.51      0.56      0.54      1000\n",
      "           6       0.73      0.70      0.71      1000\n",
      "           7       0.61      0.75      0.67      1000\n",
      "           8       0.69      0.81      0.74      1000\n",
      "           9       0.74      0.70      0.72      1000\n",
      "\n",
      "    accuracy                           0.63     10000\n",
      "   macro avg       0.63      0.63      0.63     10000\n",
      "weighted avg       0.63      0.63      0.63     10000\n",
      "\n"
     ]
    }
   ],
   "source": [
    "y_pred = cnn.predict(X_test)\n",
    "y_pred_classes=[np.argmax(element)for element in y_pred]\n",
    "print('Classification Report: \\n',classification_report(y_test,y_pred_classes))"
   ]
  },
  {
   "cell_type": "code",
   "execution_count": 42,
   "id": "34e88fc2",
   "metadata": {},
   "outputs": [],
   "source": [
    "y_test = y_test.reshape(-1,)"
   ]
  },
  {
   "cell_type": "code",
   "execution_count": 52,
   "id": "c09e40c5",
   "metadata": {},
   "outputs": [
    {
     "data": {
      "image/png": "[encoded data removed]",
      "text/plain": [
       "<Figure size 1080x144 with 1 Axes>"
      ]
     },
     "metadata": {
      "needs_background": "light"
     },
     "output_type": "display_data"
    }
   ],
   "source": [
    "plot(X_test,y_test,3)"
   ]
  },
  {
   "cell_type": "code",
   "execution_count": 46,
   "id": "7ba237f1",
   "metadata": {},
   "outputs": [
    {
     "data": {
      "text/plain": [
       "array([[1.9811541e-02, 3.1709573e-03, 1.9066587e-02, 6.5218419e-01,\n",
       "        1.4020774e-02, 1.9194950e-01, 2.4755223e-02, 1.4111152e-02,\n",
       "        5.6409981e-02, 4.5201336e-03],\n",
       "       [1.3249055e-01, 6.1565578e-01, 7.1391303e-05, 4.9951363e-05,\n",
       "        2.2938686e-05, 8.9794239e-06, 4.2221191e-06, 2.5894809e-05,\n",
       "        2.2631826e-01, 2.5352092e-02],\n",
       "       [1.3433711e-01, 3.2695651e-01, 1.9722693e-03, 4.4841231e-03,\n",
       "        1.2634770e-03, 6.4437574e-04, 4.8982358e-04, 4.8590237e-03,\n",
       "        3.2213381e-01, 2.0285945e-01],\n",
       "       [5.0574505e-01, 7.5633429e-02, 9.2749419e-03, 2.5429353e-03,\n",
       "        2.8081904e-03, 2.5352856e-04, 4.1516180e-04, 1.9748131e-04,\n",
       "        3.9886808e-01, 4.2611989e-03],\n",
       "       [2.3690173e-03, 6.9500849e-04, 7.0130058e-02, 9.0746798e-02,\n",
       "        4.2650914e-01, 2.5466785e-02, 3.7941429e-01, 3.2714580e-03,\n",
       "        1.1424916e-03, 2.5501428e-04]], dtype=float32)"
      ]
     },
     "execution_count": 46,
     "metadata": {},
     "output_type": "execute_result"
    }
   ],
   "source": [
    "y_pred[:5]"
   ]
  },
  {
   "cell_type": "code",
   "execution_count": 50,
   "id": "73ff7a0f",
   "metadata": {},
   "outputs": [
    {
     "data": {
      "text/plain": [
       "[3, 1, 1, 0, 4, 6, 1, 6, 3, 1]"
      ]
     },
     "execution_count": 50,
     "metadata": {},
     "output_type": "execute_result"
    }
   ],
   "source": [
    "y_classes[:10]"
   ]
  },
  {
   "cell_type": "code",
   "execution_count": 49,
   "id": "6fcf65ce",
   "metadata": {},
   "outputs": [
    {
     "data": {
      "text/plain": [
       "array([3, 8, 8, 0, 6, 6, 1, 6, 3, 1], dtype=uint8)"
      ]
     },
     "execution_count": 49,
     "metadata": {},
     "output_type": "execute_result"
    }
   ],
   "source": [
    "y_test[:10]"
   ]
  },
  {
   "cell_type": "code",
   "execution_count": 51,
   "id": "834ede51",
   "metadata": {},
   "outputs": [
    {
     "data": {
      "text/plain": [
       "'airplane'"
      ]
     },
     "execution_count": 51,
     "metadata": {},
     "output_type": "execute_result"
    }
   ],
   "source": [
    "classes[y_classes[3]]"
   ]
  },
  {
   "cell_type": "code",
   "execution_count": 53,
   "id": "d112be17",
   "metadata": {},
   "outputs": [
    {
     "data": {
      "image/png": "[encoded data removed]",
      "text/plain": [
       "<Figure size 1080x144 with 1 Axes>"
      ]
     },
     "metadata": {
      "needs_background": "light"
     },
     "output_type": "display_data"
    }
   ],
   "source": [
    "plot(X_test,y_test,3)"
   ]
  },
  {
   "cell_type": "code",
   "execution_count": null,
   "id": "488ac060",
   "metadata": {},
   "outputs": [],
   "source": []
  }
 ],
 "metadata": {
  "kernelspec": {
   "display_name": "Python 3 (ipykernel)",
   "language": "python",
   "name": "python3"
  },
  "language_info": {
   "codemirror_mode": {
    "name": "ipython",
    "version": 3
   },
   "file_extension": ".py",
   "mimetype": "text/x-python",
   "name": "python",
   "nbconvert_exporter": "python",
   "pygments_lexer": "ipython3",
   "version": "3.9.12"
  }
 },
 "nbformat": 4,
 "nbformat_minor": 5
}
