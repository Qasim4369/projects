{
 "cells": [
  {
   "cell_type": "markdown",
   "id": "7556fdb6",
   "metadata": {},
   "source": [
    "## Adaptive Thresholding"
   ]
  },
  {
   "cell_type": "code",
   "execution_count": 1,
   "id": "9c52bad2",
   "metadata": {},
   "outputs": [],
   "source": [
    "import cv2\n",
    "import numpy"
   ]
  },
  {
   "cell_type": "code",
   "execution_count": 2,
   "id": "57225535",
   "metadata": {},
   "outputs": [],
   "source": [
    "img1 = cv2.imread(\"book.jpeg\")"
   ]
  },
  {
   "cell_type": "code",
   "execution_count": 3,
   "id": "a02e68b7",
   "metadata": {},
   "outputs": [],
   "source": [
    "img = cv2.cvtColor(img1,cv2.COLOR_BGR2GRAY)\n",
    "thr1 = cv2.adaptiveThreshold(img,255,cv2.ADAPTIVE_THRESH_MEAN_C,cv2.THRESH_BINARY,199,5) ##ADAPTIVE MEAN\n",
    "thr2 = cv2.adaptiveThreshold(img,255,cv2.ADAPTIVE_THRESH_GAUSSIAN_C,cv2.THRESH_BINARY,199,5) ##ADAPTIVE GAUSSIAN \n",
    "\n",
    "cv2.imshow('ADAPTIVE MEAN', thr1)\n",
    "cv2.imshow('ADAPTIVE GAUSSIAN', thr2)\n",
    "\n",
    "cv2.waitKey()\n",
    "cv2.destroyAllWindows()"
   ]
  },
  {
   "cell_type": "markdown",
   "id": "b0bbb433",
   "metadata": {},
   "source": [
    "## Otsu Thresholding"
   ]
  },
  {
   "cell_type": "code",
   "execution_count": 4,
   "id": "e8bd1b0b",
   "metadata": {},
   "outputs": [],
   "source": [
    "ret, thresh1= cv2.threshold(img,120,255,cv2.THRESH_BINARY + cv2.THRESH_OTSU)\n",
    "cv2.imshow('Otsu Thresholding',thresh1)\n",
    "\n",
    "cv2.waitKey()\n",
    "cv2.destroyAllWindows()"
   ]
  },
  {
   "cell_type": "code",
   "execution_count": null,
   "id": "1e38dda0",
   "metadata": {},
   "outputs": [],
   "source": []
  }
 ],
 "metadata": {
  "kernelspec": {
   "display_name": "Python 3 (ipykernel)",
   "language": "python",
   "name": "python3"
  },
  "language_info": {
   "codemirror_mode": {
    "name": "ipython",
    "version": 3
   },
   "file_extension": ".py",
   "mimetype": "text/x-python",
   "name": "python",
   "nbconvert_exporter": "python",
   "pygments_lexer": "ipython3",
   "version": "3.9.12"
  }
 },
 "nbformat": 4,
 "nbformat_minor": 5
}
