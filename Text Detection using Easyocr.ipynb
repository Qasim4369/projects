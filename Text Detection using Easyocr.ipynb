{
 "cells": [
  {
   "cell_type": "markdown",
   "id": "b46a1ed4",
   "metadata": {},
   "source": [
    "## Text Detection using easyocr"
   ]
  },
  {
   "cell_type": "code",
   "execution_count": 1,
   "id": "afc815a9",
   "metadata": {},
   "outputs": [],
   "source": [
    "import easyocr"
   ]
  },
  {
   "cell_type": "code",
   "execution_count": 2,
   "id": "8e76b1e4",
   "metadata": {},
   "outputs": [
    {
     "name": "stderr",
     "output_type": "stream",
     "text": [
      "Neither CUDA nor MPS are available - defaulting to CPU. Note: This module is much faster with a GPU.\n"
     ]
    }
   ],
   "source": [
    "reader = easyocr.Reader(['ur','en'])"
   ]
  },
  {
   "cell_type": "code",
   "execution_count": 3,
   "id": "951685db",
   "metadata": {},
   "outputs": [],
   "source": [
    "import cv2\n",
    "img = cv2.imread('lhr.jpg')"
   ]
  },
  {
   "cell_type": "code",
   "execution_count": 5,
   "id": "b1ae9260",
   "metadata": {},
   "outputs": [
    {
     "name": "stdout",
     "output_type": "stream",
     "text": [
      "[[[[273, 89], [571, 89], [571, 197], [273, 197]], '٧و« 2', 0.33945231262992176], [[[263, 183], [576, 183], [576, 287], [263, 287]], 'LAHORF', 0.9574746197493669]]\n"
     ]
    }
   ],
   "source": [
    "bounds = reader.readtext('lhr.jpg',detail = 1)\n",
    "print(bounds)"
   ]
  },
  {
   "cell_type": "code",
   "execution_count": null,
   "id": "0586400e",
   "metadata": {},
   "outputs": [],
   "source": []
  }
 ],
 "metadata": {
  "kernelspec": {
   "display_name": "Python 3 (ipykernel)",
   "language": "python",
   "name": "python3"
  },
  "language_info": {
   "codemirror_mode": {
    "name": "ipython",
    "version": 3
   },
   "file_extension": ".py",
   "mimetype": "text/x-python",
   "name": "python",
   "nbconvert_exporter": "python",
   "pygments_lexer": "ipython3",
   "version": "3.9.12"
  }
 },
 "nbformat": 4,
 "nbformat_minor": 5
}
