{
 "cells": [
  {
   "cell_type": "code",
   "execution_count": 1,
   "id": "ac3aa81b",
   "metadata": {},
   "outputs": [],
   "source": [
    "import pyspark\n",
    "from pyspark import SparkContext\n",
    "from pyspark.sql import SparkSession\n",
    "from pyspark.sql import SQLContext\n",
    "#import org.apache.spark.sql.SparkSession\n",
    "from pymongo import MongoClient\n",
    "from pyspark import SparkContext\n",
    "from pyspark.sql import Row\n",
    "import pandas as pd\n",
    "import numpy as np\n",
    "from pyspark.sql.functions import dayofyear,year\n",
    "from pyspark.sql.functions import round, col\n",
    "from pyspark.sql.functions import *\n",
    "import matplotlib.pyplot as plt\n",
    "import pyspark.sql.functions as F"
   ]
  },
  {
   "cell_type": "code",
   "execution_count": 2,
   "id": "84124c41",
   "metadata": {},
   "outputs": [
    {
     "name": "stderr",
     "output_type": "stream",
     "text": [
      "Picked up _JAVA_OPTIONS: -Xmx3000m\n",
      "Picked up _JAVA_OPTIONS: -Xmx3000m\n"
     ]
    },
    {
     "name": "stdout",
     "output_type": "stream",
     "text": [
      ":: loading settings :: url = jar:file:/home/hadoop/.local/lib/python3.10/site-packages/pyspark/jars/ivy-2.5.1.jar!/org/apache/ivy/core/settings/ivysettings.xml\n"
     ]
    },
    {
     "name": "stderr",
     "output_type": "stream",
     "text": [
      "Ivy Default Cache set to: /home/hadoop/.ivy2/cache\n",
      "The jars for the packages stored in: /home/hadoop/.ivy2/jars\n",
      "org.mongodb.spark#mongo-spark-connector_2.12 added as a dependency\n",
      ":: resolving dependencies :: org.apache.spark#spark-submit-parent-8a66f785-79fb-4c95-9581-e0e5c2de03b5;1.0\n",
      "\tconfs: [default]\n",
      "\tfound org.mongodb.spark#mongo-spark-connector_2.12;10.1.1 in central\n",
      "\tfound org.mongodb#mongodb-driver-sync;4.8.2 in central\n",
      "\t[4.8.2] org.mongodb#mongodb-driver-sync;[4.8.1,4.8.99)\n",
      "\tfound org.mongodb#bson;4.8.2 in central\n",
      "\tfound org.mongodb#mongodb-driver-core;4.8.2 in central\n",
      "\tfound org.mongodb#bson-record-codec;4.8.2 in central\n",
      ":: resolution report :: resolve 9141ms :: artifacts dl 8ms\n",
      "\t:: modules in use:\n",
      "\torg.mongodb#bson;4.8.2 from central in [default]\n",
      "\torg.mongodb#bson-record-codec;4.8.2 from central in [default]\n",
      "\torg.mongodb#mongodb-driver-core;4.8.2 from central in [default]\n",
      "\torg.mongodb#mongodb-driver-sync;4.8.2 from central in [default]\n",
      "\torg.mongodb.spark#mongo-spark-connector_2.12;10.1.1 from central in [default]\n",
      "\t---------------------------------------------------------------------\n",
      "\t|                  |            modules            ||   artifacts   |\n",
      "\t|       conf       | number| search|dwnlded|evicted|| number|dwnlded|\n",
      "\t---------------------------------------------------------------------\n",
      "\t|      default     |   5   |   1   |   0   |   0   ||   5   |   0   |\n",
      "\t---------------------------------------------------------------------\n",
      ":: retrieving :: org.apache.spark#spark-submit-parent-8a66f785-79fb-4c95-9581-e0e5c2de03b5\n",
      "\tconfs: [default]\n",
      "\t0 artifacts copied, 5 already retrieved (0kB/6ms)\n",
      "23/05/14 00:12:02 WARN NativeCodeLoader: Unable to load native-hadoop library for your platform... using builtin-java classes where applicable\n",
      "Setting default log level to \"WARN\".\n",
      "To adjust logging level use sc.setLogLevel(newLevel). For SparkR, use setLogLevel(newLevel).\n"
     ]
    }
   ],
   "source": [
    "spark = SparkSession.builder.appName(\"Amazon1\").config(\"spark.mongodb.input.uri\", \"mongodb://127.0.0.1:27017/Amazon.mycollection\")\\\n",
    "        .config(\"spark.mongodb.output.uri\", \"mongodb://127.0.0.1:27017/Amazon.mycollection\")\\\n",
    "        .config('spark.jars.packages', 'org.mongodb.spark:mongo-spark-connector_2.12:10.1.1')\\\n",
    "        .config(\"spark.driver.memory\", \"8g\") \\\n",
    "        .config(\"spark.executor.memory\", \"4g\") \\\n",
    "        .config(\"spark.executor.cores\", \"4\") \\\n",
    "        .config(\"spark.sql.shuffle.partitions\", \"8\") \\\n",
    "        .config('spark.driver.host', 'localhost').getOrCreate()\n"
   ]
  },
  {
   "cell_type": "code",
   "execution_count": 3,
   "id": "9b562ed1",
   "metadata": {},
   "outputs": [],
   "source": [
    "df = spark.read.format(\"mongodb\").option(\"uri\", \"mongodb://127.0.0.1:27017/\").option(\"database\", \"Amazon\").option(\"collection\", \"mycollection\").load();"
   ]
  },
  {
   "cell_type": "code",
   "execution_count": 4,
   "id": "7136d941",
   "metadata": {},
   "outputs": [
    {
     "name": "stdout",
     "output_type": "stream",
     "text": [
      "root\n",
      " |-- _id: string (nullable = true)\n",
      " |-- asin: string (nullable = true)\n",
      " |-- image: array (nullable = true)\n",
      " |    |-- element: string (containsNull = true)\n",
      " |-- overall: double (nullable = true)\n",
      " |-- reviewText: string (nullable = true)\n",
      " |-- reviewTime: string (nullable = true)\n",
      " |-- reviewerID: string (nullable = true)\n",
      " |-- reviewerName: string (nullable = true)\n",
      " |-- style: struct (nullable = true)\n",
      " |    |-- Color Name:: string (nullable = true)\n",
      " |    |-- Color:: string (nullable = true)\n",
      " |    |-- Configuration:: string (nullable = true)\n",
      " |    |-- Connectivity:: string (nullable = true)\n",
      " |    |-- Digital Storage Capacity:: string (nullable = true)\n",
      " |    |-- Edition:: string (nullable = true)\n",
      " |    |-- Flavor:: string (nullable = true)\n",
      " |    |-- Format:: string (nullable = true)\n",
      " |    |-- Item Package Quantity:: string (nullable = true)\n",
      " |    |-- Length:: string (nullable = true)\n",
      " |    |-- Material Type:: string (nullable = true)\n",
      " |    |-- Number of Items:: string (nullable = true)\n",
      " |    |-- Offer Type:: string (nullable = true)\n",
      " |    |-- Package Quantity:: string (nullable = true)\n",
      " |    |-- Package Type:: string (nullable = true)\n",
      " |    |-- Platform:: string (nullable = true)\n",
      " |    |-- Product Packaging:: string (nullable = true)\n",
      " |    |-- Scent:: string (nullable = true)\n",
      " |    |-- Size Name:: string (nullable = true)\n",
      " |    |-- Size:: string (nullable = true)\n",
      " |    |-- Style Name:: string (nullable = true)\n",
      " |    |-- Style:: string (nullable = true)\n",
      " |    |-- Subscription Length:: string (nullable = true)\n",
      " |    |-- style:: string (nullable = true)\n",
      " |-- summary: string (nullable = true)\n",
      " |-- unixReviewTime: integer (nullable = true)\n",
      " |-- verified: boolean (nullable = true)\n",
      " |-- vote: string (nullable = true)\n",
      "\n"
     ]
    }
   ],
   "source": [
    "df.printSchema()"
   ]
  },
  {
   "cell_type": "code",
   "execution_count": 4,
   "id": "ed0ce7ee",
   "metadata": {},
   "outputs": [],
   "source": [
    "#making another dataframe in which we are taking only the seemingly useful values\n",
    "df1 = df.drop(\"style\",\"image\")"
   ]
  },
  {
   "cell_type": "code",
   "execution_count": 20,
   "id": "b63a122e",
   "metadata": {},
   "outputs": [
    {
     "name": "stdout",
     "output_type": "stream",
     "text": [
      "+--------------------+----------+-------+--------------------+-----------+--------------+----------------+--------------------+--------------+--------+----+\n",
      "|                 _id|      asin|overall|          reviewText| reviewTime|    reviewerID|    reviewerName|             summary|unixReviewTime|verified|vote|\n",
      "+--------------------+----------+-------+--------------------+-----------+--------------+----------------+--------------------+--------------+--------+----+\n",
      "|6458e90601ecb8d65...|B017O9P72A|    1.0|Weak!!\\n\\nAlexa d...| 12 7, 2015| ACCQIOZMFN4UK|        Da-Gr8-1|         Time waster|    1449446400|   false|  11|\n",
      "|6458e90601ecb8d65...|B017O9P72A|    5.0|         Great skill|01 15, 2018|A3TXR8GLKS19RE|           Nello|               Great|    1515974400|   false|null|\n",
      "|6458e90601ecb8d65...|B017O9P72A|    1.0|Pretty crappy. Wo...| 01 5, 2018| AVIWE1LJXCG77|    Pete Johnson|        Returning to|    1515110400|   false|   4|\n",
      "|6458e90601ecb8d65...|B017O9P72A|    1.0|Can not connect a...|12 30, 2017|A1RRDX9AOST1AN|           Viola|Connecting is a n...|    1514592000|   false|   5|\n",
      "|6458e90601ecb8d65...|B017O9P72A|    2.0|Can only control ...| 12 5, 2015|A3KUPJ396OQF78|   Larry Russlin|               Buggy|    1449273600|   false|null|\n",
      "|6458e90601ecb8d65...|B017O9P72A|    5.0|I use &ldquo;Echo...|12 18, 2017|A1QBG1TTQZGJNM|         Artyhow|      Alexa and LIFX|    1513555200|   false|   2|\n",
      "|6458e90601ecb8d65...|B017O9P72A|    3.0|The LifX bulb is ...|12 29, 2017|A3TYO7I2GSCH4X| Amazon Customer|      Almost awesome|    1514505600|   false|   9|\n",
      "|6458e90601ecb8d65...|B017O9P72A|    5.0|So easy to connec...|12 25, 2017|A3KWZMO1A9TO3Z| Amazon Customer|     This is awesome|    1514160000|   false|   2|\n",
      "|6458e90601ecb8d65...|B017O9P72A|    2.0|Can&rsquo;t conne...|11 28, 2017|A2NGABQTU93H28|           noura|          Really bad|    1511827200|   false|   6|\n",
      "|6458e90601ecb8d65...|B017O9P72A|    1.0|Not happy. Can no...| 01 4, 2018|A1FOHYK23FJ6CN|L. Ray Humphreys|Can not connect t...|    1515024000|   false|   2|\n",
      "|6458e90601ecb8d65...|B017O9P72A|    1.0|The service works...|12 29, 2017| AA4DHYT5YSSIT|       angie anj|       Does not work|    1514505600|   false|   5|\n",
      "|6458e90601ecb8d65...|B017O9P72A|    1.0|This app forces y...|11 23, 2017|A1M5UIUZ2P5FFO| Amazon Customer|   Use the other app|    1511395200|   false|   3|\n",
      "|6458e90601ecb8d65...|B017O9P72A|    1.0|this worked great...| 02 2, 2018|A1U1RE1ZI19E1H|         Rebekah|     stopped working|    1517529600|   false|   2|\n",
      "|6458e90601ecb8d65...|B017O9P72A|    4.0|Alexa works great...| 12 8, 2015|A27ZJ1NCBFP1HZ|            Greg|      So Far So Good|    1449532800|   false|   5|\n",
      "|6458e90601ecb8d65...|B017O9P72A|    1.0|Red all steps and...|11 10, 2017| AE5S7XRYMZ15P|    Karim Moussa|I can&rsquo;t con...|    1510272000|   false|   2|\n",
      "|6458e90601ecb8d65...|B017O9P72A|    1.0|Who would think y...|09 13, 2017|A1E35W9YOVAH1G| Amazon Customer|            Pathetic|    1505260800|   false|null|\n",
      "|6458e90601ecb8d65...|B017O9P72A|    5.0|I haven't had any...|11 24, 2017|A2LNJJWW2TLL00|         jarhead|            Love it!|    1511481600|   false|null|\n",
      "|6458e90601ecb8d65...|B017O9P72A|    5.0|                Good|06 29, 2017| ALBD3EW51P0PJ|  Mageswari Babu|Hooked it up toda...|    1498694400|   false|null|\n",
      "|6458e90601ecb8d65...|B017O9P72A|    1.0|The title says it...|07 23, 2017|  A9Z810V4E39P|         RobertP|Update breaks fun...|    1500768000|   false|   2|\n",
      "|6458e90601ecb8d65...|B017O9P72A|    3.0|Lifx is a weird w...|08 23, 2017|A2OPRIKEHM8WUI|              RS|            Not bad.|    1503446400|   false|   3|\n",
      "+--------------------+----------+-------+--------------------+-----------+--------------+----------------+--------------------+--------------+--------+----+\n",
      "only showing top 20 rows\n",
      "\n"
     ]
    }
   ],
   "source": [
    "df1.show()"
   ]
  },
  {
   "cell_type": "code",
   "execution_count": 5,
   "id": "2d15af98",
   "metadata": {},
   "outputs": [],
   "source": [
    "#Converting the vote column into an integer column so we can use it for analysis\n",
    "df1 = df1.withColumn(\"vote\", col(\"vote\").cast(\"integer\"))"
   ]
  },
  {
   "cell_type": "code",
   "execution_count": 6,
   "id": "d294dc06",
   "metadata": {},
   "outputs": [
    {
     "name": "stdout",
     "output_type": "stream",
     "text": [
      "root\n",
      " |-- _id: string (nullable = true)\n",
      " |-- asin: string (nullable = true)\n",
      " |-- overall: double (nullable = true)\n",
      " |-- reviewText: string (nullable = true)\n",
      " |-- reviewTime: string (nullable = true)\n",
      " |-- reviewerID: string (nullable = true)\n",
      " |-- reviewerName: string (nullable = true)\n",
      " |-- summary: string (nullable = true)\n",
      " |-- unixReviewTime: integer (nullable = true)\n",
      " |-- verified: boolean (nullable = true)\n",
      " |-- vote: integer (nullable = true)\n",
      "\n"
     ]
    }
   ],
   "source": [
    "df1.printSchema()"
   ]
  },
  {
   "cell_type": "code",
   "execution_count": 14,
   "id": "a4f8b355",
   "metadata": {},
   "outputs": [],
   "source": [
    "#reviewtime analysis, overall analysis, verified analysis\n"
   ]
  },
  {
   "cell_type": "markdown",
   "id": "81ee9af6",
   "metadata": {},
   "source": [
    "# EDA"
   ]
  },
  {
   "cell_type": "code",
   "execution_count": 6,
   "id": "09cfdaac",
   "metadata": {},
   "outputs": [],
   "source": [
    "#Taking a sample of the dataframe\n",
    "sampled_df = df1.sample(withReplacement=False, fraction=0.1, seed=42)"
   ]
  },
  {
   "cell_type": "code",
   "execution_count": 10,
   "id": "325f5860",
   "metadata": {},
   "outputs": [
    {
     "name": "stderr",
     "output_type": "stream",
     "text": [
      "\r\n",
      "[Stage 0:>                                                          (0 + 1) / 1]\r"
     ]
    },
    {
     "name": "stdout",
     "output_type": "stream",
     "text": [
      "+--------------------+----------+-------+--------------------+-----------+--------------+-------------------+--------------------+--------------+--------+----+\n",
      "|                 _id|      asin|overall|          reviewText| reviewTime|    reviewerID|       reviewerName|             summary|unixReviewTime|verified|vote|\n",
      "+--------------------+----------+-------+--------------------+-----------+--------------+-------------------+--------------------+--------------+--------+----+\n",
      "|6458e90601ecb8d65...|B017O9P72A|    5.0|So easy to connec...|12 25, 2017|A3KWZMO1A9TO3Z|    Amazon Customer|     This is awesome|    1514160000|   false|   2|\n",
      "|6458e90601ecb8d65...|B017O9P72A|    5.0|I haven't had any...|11 24, 2017|A2LNJJWW2TLL00|            jarhead|            Love it!|    1511481600|   false|null|\n",
      "|6458e90601ecb8d65...|B017O9P72A|    1.0|The title says it...|07 23, 2017|  A9Z810V4E39P|            RobertP|Update breaks fun...|    1500768000|   false|   2|\n",
      "|6458e90601ecb8d65...|B017O9P72A|    3.0|This would be a f...|12 28, 2016|A2EEQOTGYX3NK3|Vanessa L. Gonzalez|Not easy to set u...|    1482883200|   false|null|\n",
      "|6458e90601ecb8d65...|B017O9P72A|    3.0|When we ask Alexa...|12 25, 2016|A24WB6HZ0N52SM|           Menghsiu|Still won't chang...|    1482624000|   false|null|\n",
      "|6458e90601ecb8d65...|B017O9P72A|    4.0|If you get the nu...| 12 9, 2016|A36BP20PHO3SVE|              Mango|How to fix NULL e...|    1481241600|   false|null|\n",
      "|6458e90601ecb8d65...|B017O9P72A|    1.0|When I hit author...| 12 6, 2016|A2JJSBKZKQXAER|        David Lopez|Epic fail by lifx...|    1480982400|   false|   3|\n",
      "|6458e90601ecb8d65...|B017O9P72A|    5.0|Works great with ...|10 25, 2016|A1XEV1ZKY77XDC|            Trynyti|Easy to use, work...|    1477353600|   false|null|\n",
      "|6458e90601ecb8d65...|B017O9P72A|    4.0|Got the \"message\"...|10 20, 2016|A1YRD6OB2UZBMT| Michael R. Bowling|Can't authorize s...|    1476921600|   false|   6|\n",
      "|6458e90601ecb8d65...|B017O9P72A|    5.0|         Works fine!| 09 3, 2016|A1D9K2TSTQTG9R|                 CB|              Thanks|    1472860800|   false|null|\n",
      "|6458e90601ecb8d65...|B017O9P72A|    3.0|Works fine, thoug...|07 24, 2016|A1APN6B0N3FJ0M|            Jerry E|Commands are cumb...|    1469318400|   false|null|\n",
      "|6458e90601ecb8d65...|B017O9P72A|    1.0|This only works a...|03 15, 2016| A766KJYVNXYMF|  Jamie R Rytlewski|Don't waste your ...|    1458000000|   false|null|\n",
      "|6458e90601ecb8d65...|B017O9P72A|    1.0|Alexa doesn't res...|03 14, 2016|A12MCJUMJU0ST3|     Martinez green|                Lifx|    1457913600|   false|null|\n",
      "|6458e90601ecb8d65...|B017O9P72A|    1.0|Follow directions...|03 13, 2016|A30S3QA3KN4KSD|     Michael McNeal|Not worth the tim...|    1457827200|   false|null|\n",
      "|6458e90601ecb8d65...|B017O9P72A|    2.0|Horrible,  absolu...|03 10, 2016|A2AQ4B1526F3F5|     Colin Warnecke|Underwhelming int...|    1457568000|   false|null|\n",
      "|6458e90601ecb8d65...|B017O9P72A|    1.0|Talking to Alexa ...|02 14, 2016|A2MIH4W2VUPKF3|            Won Kim|  Needs improvement.|    1455408000|   false|null|\n",
      "|6458e90601ecb8d65...|B017O9P72A|    1.0|Sentences are lon...|01 14, 2016|A3A86SLB6H33DV|           A. Hanan|Not user friendly...|    1452729600|   false|   5|\n",
      "|6458e90601ecb8d65...|B017O9P72A|    3.0|Hit or miss. Only...|12 13, 2015|A1N6X7R46M6FMJ|             Zombie|         Hit or miss|    1449964800|   false|null|\n",
      "|6458e90601ecb8d65...|B017O9P72A|    5.0|Can yo change the...|01 10, 2016|A2UL8UHL896JHK|               Mike|9 out of 10 alexa...|    1452384000|   false|null|\n",
      "|6458e90601ecb8d65...|B017OBE2NI|    4.0|Great App!! Would...|01 19, 2017|A3PP777HC3O8BC|    Amazon Customer|    Request Enhancem|    1484784000|   false|null|\n",
      "+--------------------+----------+-------+--------------------+-----------+--------------+-------------------+--------------------+--------------+--------+----+\n",
      "only showing top 20 rows\n",
      "\n"
     ]
    },
    {
     "name": "stderr",
     "output_type": "stream",
     "text": [
      "\r\n",
      "                                                                                \r"
     ]
    }
   ],
   "source": [
    "sampled_df.show()"
   ]
  },
  {
   "cell_type": "code",
   "execution_count": 21,
   "id": "cab25371",
   "metadata": {},
   "outputs": [
    {
     "name": "stderr",
     "output_type": "stream",
     "text": [
      "[Stage 2:>                                                          (0 + 1) / 1]\r"
     ]
    },
    {
     "name": "stdout",
     "output_type": "stream",
     "text": [
      "+--------------------+----------+--------------+--------------+----+--------+\n",
      "|                 _id|      asin|    reviewerID|unixReviewTime|vote|verified|\n",
      "+--------------------+----------+--------------+--------------+----+--------+\n",
      "|6458e90701ecb8d65...|B000HA3CEY|A1U4R8DP7MLOYP|    1354060800|   6|    true|\n",
      "|6458e90701ecb8d65...|B001EJZNXK|A11AP8Z9IF3NH2|    1361836800|null|    true|\n",
      "|6458e90701ecb8d65...|B001EJY2IC| AZVVZKY2DQU81|    1426723200|null|    true|\n",
      "|6458e90701ecb8d65...|B001EJY2IC| ADD10E6HUUQ5J|    1426118400|null|    true|\n",
      "|6458e90701ecb8d65...|B001GC0FLA|A1ASWATMCFI8R1|    1341014400|null|    true|\n",
      "|6458e90701ecb8d65...|B001GC0FLA|A3M8WD1HIR3FG1|    1341014400|null|    true|\n",
      "|6458e90701ecb8d65...|B002DHESLU| AETKF4ZMLZV0W|    1512950400|null|    true|\n",
      "|6458e90701ecb8d65...|B002DHESLU|A2J09IQGL17GO0|    1482969600|null|    true|\n",
      "|6458e90701ecb8d65...|B002DHESLU| A7MPXXSXRMUN7|    1501804800|null|    true|\n",
      "|6458e90701ecb8d65...|B002DHESLU|A3FNYJGNMSIM8U|    1429228800|   7|    true|\n",
      "|6458e90701ecb8d65...|B002DHESLU|A26UP6B7CTI11G|    1410048000|null|    true|\n",
      "|6458e90701ecb8d65...|B002DHESLU|A2VJ1ZXKHASOVA|    1395187200|   2|    true|\n",
      "|6458e90701ecb8d65...|B002DHESLU| AP6W11A3IOFS7|    1431216000|   8|    true|\n",
      "|6458e90701ecb8d65...|B002DHESLU| ALK7S70QD8KW2|    1362355200|null|    true|\n",
      "|6458e90701ecb8d65...|B0030HV6QC| ALN0758DW6A7S|    1434499200|null|    true|\n",
      "|6458e90701ecb8d65...|B0030HV6QC|A3E2XA2IOBLG1A|    1420761600|null|    true|\n",
      "|6458e90701ecb8d65...|B004KFVED8|A2MXPGV2JL8VZD|    1487289600|null|    true|\n",
      "|6458e90701ecb8d65...|B004KFVED8|A207VCXC66TGK4|    1418342400|null|    true|\n",
      "|6458e90701ecb8d65...|B004KFVED8|A14M5Z6Z99S84S|    1416268800|null|    true|\n",
      "|6458e90701ecb8d65...|B004KFVED8|A2G2LQDI6HV1HV|    1363910400|null|    true|\n",
      "+--------------------+----------+--------------+--------------+----+--------+\n",
      "only showing top 20 rows\n",
      "\n"
     ]
    },
    {
     "name": "stderr",
     "output_type": "stream",
     "text": [
      "                                                                                \r"
     ]
    }
   ],
   "source": [
    "#showing only verified reviews to get rid of fake reviews\n",
    "sampled_df.select('_id','asin','reviewerID', 'unixReviewTime', 'vote', 'verified').filter(sampled_df.verified=='true').show()"
   ]
  },
  {
   "cell_type": "code",
   "execution_count": 25,
   "id": "997aa208",
   "metadata": {},
   "outputs": [
    {
     "name": "stderr",
     "output_type": "stream",
     "text": [
      "                                                                                \r"
     ]
    },
    {
     "data": {
      "image/png": "[encoded data removed]",
      "text/plain": [
       "<Figure size 640x480 with 1 Axes>"
      ]
     },
     "metadata": {},
     "output_type": "display_data"
    }
   ],
   "source": [
    "#visual representation of the unixReviewTime column. \n",
    "#The resulting plot shows the distribution of review times in the dataset\n",
    "#with the x-axis showing the time values and the y-axis showing the frequency of reviews in each time bin.\n",
    "\n",
    "col_name = \"unixReviewTime\"\n",
    "values = sampled_df.select(col_name).rdd.flatMap(lambda x: x).collect()\n",
    "plt.hist(values, bins=20)\n",
    "plt.title(col_name)\n",
    "plt.xlabel('Time')\n",
    "plt.ylabel('Frequency')\n",
    "plt.show()"
   ]
  },
  {
   "cell_type": "code",
   "execution_count": 7,
   "id": "4ad1f3e4",
   "metadata": {},
   "outputs": [],
   "source": [
    "resampled_df = sampled_df.sample(withReplacement=False, fraction=0.1, seed=42)"
   ]
  },
  {
   "cell_type": "code",
   "execution_count": 11,
   "id": "9697c93f",
   "metadata": {
    "scrolled": true
   },
   "outputs": [
    {
     "name": "stdout",
     "output_type": "stream",
     "text": [
      "+--------------------+----------+-------+--------------------+-----------+--------------+--------------------+--------------------+--------------+--------+----+\n",
      "|                 _id|      asin|overall|          reviewText| reviewTime|    reviewerID|        reviewerName|             summary|unixReviewTime|verified|vote|\n",
      "+--------------------+----------+-------+--------------------+-----------+--------------+--------------------+--------------------+--------------+--------+----+\n",
      "|6458e90701ecb8d65...|B001EJY2IC|    5.0|              A+++++|03 19, 2015| AZVVZKY2DQU81|      Ernest C. Lowe|    Better container|    1426723200|    true|null|\n",
      "|6458e90701ecb8d65...|B002DHESLU|    5.0|Its a beautiful c...|04 17, 2015|A3FNYJGNMSIM8U|              edward|     would recommend|    1429228800|    true|   7|\n",
      "|6458e90701ecb8d65...|B0058OQWH8|    5.0|All pennies were ...| 05 3, 2018| AEQD68FVQVLMD|                Brad|          Five Stars|    1525305600|    true|null|\n",
      "|6458e90701ecb8d65...|B00BF2L4FW|    5.0|Thank you so much...| 08 7, 2013|A1XE7VUKILTR9O|    Barbara L. Martz|White Mountains Q...|    1375833600|    true|null|\n",
      "|6458e90701ecb8d65...|B00CFCKJ0W|    5.0|Awesome product v...|03 10, 2017|A1QTJU4R9CS8PH|             stephen|          Five Stars|    1489104000|    true|null|\n",
      "|6458e90701ecb8d65...|B00414KZJC|    5.0|coin was on time ...|03 23, 2013|A37EBM6VN2UBAL|              Degaul|                coin|    1363996800|    true|null|\n",
      "|6458e90701ecb8d65...|B00LABXYGA|    5.0|      Excellent set.|05 23, 2015| APHF7JDEYIIS7|James P. Officer Sr.|          Five Stars|    1432339200|    true|null|\n",
      "|6458e90701ecb8d65...|B00LAGBNYK|    5.0|          great coin| 02 3, 2017|A3OVE1Z1LLK3CU|          wiggieworm|          Five Stars|    1486080000|    true|null|\n",
      "|6458e90701ecb8d65...|B00LAGCDR6|    5.0|          Nice Coin>|09 10, 2015|A1OUYPFLIOMUKL|        LaDonna Earl|          Five Stars|    1441843200|    true|null|\n",
      "|6458e90701ecb8d65...|B00YQ4WGUS|    5.0|Gift for someone....|05 22, 2018|A28VJUFY3YZWKP|          Gail Sokol|          Five Stars|    1526947200|    true|null|\n",
      "|6458e90701ecb8d65...|B00J9P3KBS|    1.0|             Perfect|12 23, 2014| A4UMCUYW2O89L|    Michael cummings|            One Star|    1419292800|    true|null|\n",
      "|6458e90701ecb8d65...|B00J9P3KBS|    4.0|Works fine once y...|10 24, 2014|A3L3ETMBSVUY8T|           HowzitUSA|Works fine once y...|    1414108800|    true|null|\n",
      "|6458e90701ecb8d65...|B004JJGLHO|    4.0|         Super Good!|08 15, 2014|A1JSXUF2N9BELC|        Carlos Reyes|          Four Stars|    1408060800|    true|null|\n",
      "|6458e90701ecb8d65...|B004JJGLHO|    4.0|Hides pictures as...|08 16, 2012|A2GXHCJKDT2B35|           Phillycat|does what it is s...|    1345075200|    true|null|\n",
      "|6458e90701ecb8d65...|B004UMZ306|    3.0|Not what we expected|09 11, 2014|A3DU2DOJPIRNWO|             Rebecca|         Three Stars|    1410393600|    true|null|\n",
      "|6458e90701ecb8d65...|B004UMZ306|    2.0|I've had App2SD f...|01 30, 2012|A2EMARD2PYKYXH|           RealTunes|Cool. But space s...|    1327881600|    true|null|\n",
      "|6458e90701ecb8d65...|B004UMZ306|    5.0|unlike most of th...|11 21, 2011|A1108UURKIHU10|          A. Khargie|    easy made simple|    1321833600|    true|null|\n",
      "|6458e90701ecb8d65...|B004XE5UA4|    5.0|i have a wm8650 a...|04 25, 2011|A38QOOH6VDODH3|     Amazon Customer|great antivirus p...|    1303689600|    true|  13|\n",
      "|6458e90701ecb8d65...|B004XE5UA4|    5.0|         Works great|11 12, 2014| AQP3AFEATAWUQ|      Harry Robinson|          Five Stars|    1415750400|    true|null|\n",
      "|6458e90701ecb8d65...|B004XE5UA4|    3.0|This app keeps sa...| 12 6, 2011| AWG569JBE8EPL|                 rhd|Not sure whether ...|    1323129600|    true|null|\n",
      "+--------------------+----------+-------+--------------------+-----------+--------------+--------------------+--------------------+--------------+--------+----+\n",
      "only showing top 20 rows\n",
      "\n"
     ]
    }
   ],
   "source": [
    "resampled_df.show()"
   ]
  },
  {
   "cell_type": "code",
   "execution_count": 8,
   "id": "b5c8c9f2",
   "metadata": {},
   "outputs": [],
   "source": [
    "#Only taking into account verified reviewers as to get rid of fake reviews\n",
    "resampled_df = resampled_df.filter(col('verified') == True)"
   ]
  },
  {
   "cell_type": "markdown",
   "id": "d9cdb216",
   "metadata": {},
   "source": [
    "# Machine Learning"
   ]
  },
  {
   "cell_type": "code",
   "execution_count": 9,
   "id": "7c52d064",
   "metadata": {},
   "outputs": [],
   "source": [
    "#making a seperate df for machine learning and removing columns that are'nt necessary for the model\n",
    "\n",
    "ml_df = resampled_df.drop(\"reviewerName\",\"reviewText\", \"reviewTime\", \"summary\", \"unixReviewTime\", \"verified\", \"vote\")"
   ]
  },
  {
   "cell_type": "code",
   "execution_count": 10,
   "id": "b76cc805",
   "metadata": {
    "scrolled": true
   },
   "outputs": [
    {
     "name": "stderr",
     "output_type": "stream",
     "text": [
      "\r\n",
      "[Stage 0:>                                                          (0 + 1) / 1]\r"
     ]
    },
    {
     "name": "stdout",
     "output_type": "stream",
     "text": [
      "+--------------------+----------+-------+--------------+\n",
      "|                 _id|      asin|overall|    reviewerID|\n",
      "+--------------------+----------+-------+--------------+\n",
      "|6458e90701ecb8d65...|B001EJY2IC|    5.0| AZVVZKY2DQU81|\n",
      "|6458e90701ecb8d65...|B002DHESLU|    5.0|A3FNYJGNMSIM8U|\n",
      "|6458e90701ecb8d65...|B0058OQWH8|    5.0| AEQD68FVQVLMD|\n",
      "|6458e90701ecb8d65...|B00BF2L4FW|    5.0|A1XE7VUKILTR9O|\n",
      "|6458e90701ecb8d65...|B00CFCKJ0W|    5.0|A1QTJU4R9CS8PH|\n",
      "|6458e90701ecb8d65...|B00414KZJC|    5.0|A37EBM6VN2UBAL|\n",
      "|6458e90701ecb8d65...|B00LABXYGA|    5.0| APHF7JDEYIIS7|\n",
      "|6458e90701ecb8d65...|B00LAGBNYK|    5.0|A3OVE1Z1LLK3CU|\n",
      "|6458e90701ecb8d65...|B00LAGCDR6|    5.0|A1OUYPFLIOMUKL|\n",
      "|6458e90701ecb8d65...|B00YQ4WGUS|    5.0|A28VJUFY3YZWKP|\n",
      "|6458e90701ecb8d65...|B00J9P3KBS|    1.0| A4UMCUYW2O89L|\n",
      "|6458e90701ecb8d65...|B00J9P3KBS|    4.0|A3L3ETMBSVUY8T|\n",
      "|6458e90701ecb8d65...|B004JJGLHO|    4.0|A1JSXUF2N9BELC|\n",
      "|6458e90701ecb8d65...|B004JJGLHO|    4.0|A2GXHCJKDT2B35|\n",
      "|6458e90701ecb8d65...|B004UMZ306|    3.0|A3DU2DOJPIRNWO|\n",
      "|6458e90701ecb8d65...|B004UMZ306|    2.0|A2EMARD2PYKYXH|\n",
      "|6458e90701ecb8d65...|B004UMZ306|    5.0|A1108UURKIHU10|\n",
      "|6458e90701ecb8d65...|B004XE5UA4|    5.0|A38QOOH6VDODH3|\n",
      "|6458e90701ecb8d65...|B004XE5UA4|    5.0| AQP3AFEATAWUQ|\n",
      "|6458e90701ecb8d65...|B004XE5UA4|    3.0| AWG569JBE8EPL|\n",
      "+--------------------+----------+-------+--------------+\n",
      "only showing top 20 rows\n",
      "\n"
     ]
    },
    {
     "name": "stderr",
     "output_type": "stream",
     "text": [
      "\r\n",
      "                                                                                \r"
     ]
    }
   ],
   "source": [
    "ml_df.show()"
   ]
  },
  {
   "cell_type": "code",
   "execution_count": 11,
   "id": "a2ee3b26",
   "metadata": {},
   "outputs": [
    {
     "name": "stdout",
     "output_type": "stream",
     "text": [
      "root\n",
      " |-- _id: string (nullable = true)\n",
      " |-- asin: string (nullable = true)\n",
      " |-- overall: double (nullable = true)\n",
      " |-- reviewerID: string (nullable = true)\n",
      "\n"
     ]
    }
   ],
   "source": [
    "ml_df.printSchema()"
   ]
  },
  {
   "cell_type": "markdown",
   "id": "44e0a315",
   "metadata": {},
   "source": [
    "# ASL"
   ]
  },
  {
   "cell_type": "code",
   "execution_count": 12,
   "id": "00cc5dbc",
   "metadata": {},
   "outputs": [
    {
     "name": "stderr",
     "output_type": "stream",
     "text": [
      "23/05/14 00:14:13 WARN DAGScheduler: Broadcasting large task binary with size 7.5 MiB\n",
      "23/05/14 00:14:57 WARN DAGScheduler: Broadcasting large task binary with size 7.5 MiB\n",
      "23/05/14 00:16:03 WARN DAGScheduler: Broadcasting large task binary with size 7.5 MiB\n",
      "                                                                                \r"
     ]
    }
   ],
   "source": [
    "from pyspark.ml.feature import StringIndexer\n",
    "from pyspark.ml.recommendation import ALS\n",
    "from pyspark.ml.evaluation import RegressionEvaluator\n",
    "\n",
    "# Convert the reviewerID and asin columns to numeric using StringIndexer\n",
    "reviewer_id_indexer = StringIndexer(inputCol=\"reviewerID\", outputCol=\"userId\").setHandleInvalid(\"skip\")\n",
    "asin_indexer = StringIndexer(inputCol=\"asin\", outputCol=\"itemId\").setHandleInvalid(\"skip\")\n",
    "mldf_indexed = reviewer_id_indexer.fit(ml_df).transform(ml_df)\n",
    "mldf_indexed = asin_indexer.fit(mldf_indexed).transform(mldf_indexed)\n",
    "\n"
   ]
  },
  {
   "cell_type": "code",
   "execution_count": 13,
   "id": "ed9872ec",
   "metadata": {},
   "outputs": [
    {
     "name": "stderr",
     "output_type": "stream",
     "text": [
      "23/05/14 00:16:06 WARN DAGScheduler: Broadcasting large task binary with size 8.7 MiB\n",
      "[Stage 13:>                                                         (0 + 1) / 1]\r"
     ]
    },
    {
     "name": "stdout",
     "output_type": "stream",
     "text": [
      "+--------------------+----------+-------+--------------+--------+------+\n",
      "|                 _id|      asin|overall|    reviewerID|  userId|itemId|\n",
      "+--------------------+----------+-------+--------------+--------+------+\n",
      "|6458e90701ecb8d65...|B001EJY2IC|    5.0| AZVVZKY2DQU81|192500.0|4164.0|\n",
      "|6458e90701ecb8d65...|B002DHESLU|    5.0|A3FNYJGNMSIM8U|125595.0|4888.0|\n",
      "|6458e90701ecb8d65...|B0058OQWH8|    5.0| AEQD68FVQVLMD|163514.0|6241.0|\n",
      "|6458e90701ecb8d65...|B00BF2L4FW|    5.0|A1XE7VUKILTR9O| 50922.0|7307.0|\n",
      "|6458e90701ecb8d65...|B00CFCKJ0W|    5.0|A1QTJU4R9CS8PH| 41898.0|7469.0|\n",
      "|6458e90701ecb8d65...|B00414KZJC|    5.0|A37EBM6VN2UBAL|114140.0|5524.0|\n",
      "|6458e90701ecb8d65...|B00LABXYGA|    5.0| APHF7JDEYIIS7|178155.0|8615.0|\n",
      "|6458e90701ecb8d65...|B00LAGBNYK|    5.0|A3OVE1Z1LLK3CU|138275.0|8616.0|\n",
      "|6458e90701ecb8d65...|B00LAGCDR6|    5.0|A1OUYPFLIOMUKL| 39262.0|8617.0|\n",
      "|6458e90701ecb8d65...|B00YQ4WGUS|    5.0|A28VJUFY3YZWKP| 66609.0|9683.0|\n",
      "|6458e90701ecb8d65...|B00J9P3KBS|    1.0| A4UMCUYW2O89L|149758.0|1012.0|\n",
      "|6458e90701ecb8d65...|B00J9P3KBS|    4.0|A3L3ETMBSVUY8T|133041.0|1012.0|\n",
      "|6458e90701ecb8d65...|B004JJGLHO|    4.0|A1JSXUF2N9BELC| 32169.0| 858.0|\n",
      "|6458e90701ecb8d65...|B004JJGLHO|    4.0|A2GXHCJKDT2B35| 77689.0| 858.0|\n",
      "|6458e90701ecb8d65...|B004UMZ306|    3.0|A3DU2DOJPIRNWO|123049.0| 284.0|\n",
      "|6458e90701ecb8d65...|B004UMZ306|    2.0|A2EMARD2PYKYXH| 74480.0| 284.0|\n",
      "|6458e90701ecb8d65...|B004UMZ306|    5.0|A1108UURKIHU10|  6257.0| 284.0|\n",
      "|6458e90701ecb8d65...|B004XE5UA4|    5.0|A38QOOH6VDODH3|115979.0| 286.0|\n",
      "|6458e90701ecb8d65...|B004XE5UA4|    5.0| AQP3AFEATAWUQ|179827.0| 286.0|\n",
      "|6458e90701ecb8d65...|B004XE5UA4|    3.0| AWG569JBE8EPL|187755.0| 286.0|\n",
      "+--------------------+----------+-------+--------------+--------+------+\n",
      "only showing top 20 rows\n",
      "\n"
     ]
    },
    {
     "name": "stderr",
     "output_type": "stream",
     "text": [
      "\r\n",
      "                                                                                \r"
     ]
    }
   ],
   "source": [
    "mldf_indexed.show()"
   ]
  },
  {
   "cell_type": "code",
   "execution_count": 14,
   "id": "3cb786a5",
   "metadata": {},
   "outputs": [],
   "source": [
    "# Splitting the data into training and testing sets\n",
    "(training, test) = mldf_indexed.randomSplit([0.8, 0.2])\n",
    "\n",
    "# Creating an instance of the ALS model\n",
    "als = ALS(userCol=\"userId\", itemCol=\"itemId\", ratingCol=\"overall\", coldStartStrategy=\"drop\")\n",
    "\n"
   ]
  },
  {
   "cell_type": "code",
   "execution_count": 15,
   "id": "bcbe6f52",
   "metadata": {},
   "outputs": [
    {
     "name": "stderr",
     "output_type": "stream",
     "text": [
      "23/05/14 00:16:12 WARN DAGScheduler: Broadcasting large task binary with size 8.8 MiB\n",
      "23/05/14 00:16:13 WARN DAGScheduler: Broadcasting large task binary with size 8.8 MiB\n",
      "23/05/14 00:17:46 WARN DAGScheduler: Broadcasting large task binary with size 8.8 MiB\n",
      "23/05/14 00:17:55 WARN DAGScheduler: Broadcasting large task binary with size 8.8 MiB\n",
      "23/05/14 00:17:55 WARN DAGScheduler: Broadcasting large task binary with size 8.8 MiB\n",
      "23/05/14 00:18:03 WARN DAGScheduler: Broadcasting large task binary with size 8.8 MiB\n",
      "23/05/14 00:18:04 WARN DAGScheduler: Broadcasting large task binary with size 8.8 MiB\n",
      "23/05/14 00:18:04 WARN InstanceBuilder: Failed to load implementation from:dev.ludovic.netlib.blas.JNIBLAS\n",
      "23/05/14 00:18:05 WARN DAGScheduler: Broadcasting large task binary with size 8.8 MiB\n",
      "23/05/14 00:18:05 WARN InstanceBuilder: Failed to load implementation from:dev.ludovic.netlib.lapack.JNILAPACK\n",
      "23/05/14 00:18:05 WARN DAGScheduler: Broadcasting large task binary with size 8.8 MiB\n",
      "23/05/14 00:18:06 WARN DAGScheduler: Broadcasting large task binary with size 8.8 MiB\n",
      "23/05/14 00:18:06 WARN DAGScheduler: Broadcasting large task binary with size 8.8 MiB\n",
      "23/05/14 00:18:07 WARN DAGScheduler: Broadcasting large task binary with size 8.8 MiB\n",
      "23/05/14 00:18:08 WARN DAGScheduler: Broadcasting large task binary with size 8.8 MiB\n",
      "23/05/14 00:18:08 WARN DAGScheduler: Broadcasting large task binary with size 8.8 MiB\n",
      "23/05/14 00:18:09 WARN DAGScheduler: Broadcasting large task binary with size 8.8 MiB\n",
      "23/05/14 00:18:10 WARN DAGScheduler: Broadcasting large task binary with size 8.8 MiB\n",
      "23/05/14 00:18:10 WARN DAGScheduler: Broadcasting large task binary with size 8.8 MiB\n",
      "23/05/14 00:18:11 WARN DAGScheduler: Broadcasting large task binary with size 8.8 MiB\n",
      "23/05/14 00:18:12 WARN DAGScheduler: Broadcasting large task binary with size 8.8 MiB\n",
      "23/05/14 00:18:12 WARN DAGScheduler: Broadcasting large task binary with size 8.8 MiB\n",
      "23/05/14 00:18:13 WARN DAGScheduler: Broadcasting large task binary with size 8.8 MiB\n",
      "23/05/14 00:18:13 WARN DAGScheduler: Broadcasting large task binary with size 8.8 MiB\n",
      "23/05/14 00:18:14 WARN DAGScheduler: Broadcasting large task binary with size 8.8 MiB\n",
      "23/05/14 00:18:15 WARN DAGScheduler: Broadcasting large task binary with size 8.8 MiB\n",
      "23/05/14 00:18:15 WARN DAGScheduler: Broadcasting large task binary with size 8.8 MiB\n",
      "23/05/14 00:18:16 WARN DAGScheduler: Broadcasting large task binary with size 8.8 MiB\n",
      "23/05/14 00:18:16 WARN DAGScheduler: Broadcasting large task binary with size 8.8 MiB\n",
      "23/05/14 00:18:17 WARN DAGScheduler: Broadcasting large task binary with size 8.8 MiB\n",
      "                                                                                \r"
     ]
    }
   ],
   "source": [
    "# Training the ALS model on the training data\n",
    "model = als.fit(training)"
   ]
  },
  {
   "cell_type": "code",
   "execution_count": 16,
   "id": "75ea838e",
   "metadata": {},
   "outputs": [],
   "source": [
    "# Generating predictions on the test data\n",
    "predictions = model.transform(test)"
   ]
  },
  {
   "cell_type": "code",
   "execution_count": 17,
   "id": "1ce9798e",
   "metadata": {},
   "outputs": [
    {
     "name": "stderr",
     "output_type": "stream",
     "text": [
      "23/05/14 00:18:22 WARN DAGScheduler: Broadcasting large task binary with size 8.8 MiB\n",
      "23/05/14 00:18:23 WARN DAGScheduler: Broadcasting large task binary with size 8.8 MiB\n",
      "23/05/14 00:18:23 WARN DAGScheduler: Broadcasting large task binary with size 8.8 MiB\n",
      "                                                                                \r"
     ]
    },
    {
     "name": "stdout",
     "output_type": "stream",
     "text": [
      "+--------------------+----------+-------+--------------+--------+------+------------+\n",
      "|                 _id|      asin|overall|    reviewerID|  userId|itemId|  prediction|\n",
      "+--------------------+----------+-------+--------------+--------+------+------------+\n",
      "|6458e94301ecb8d65...|B0014CSIG6|    5.0|A2V4OIE960OZP1| 97053.0|3595.0|    4.950967|\n",
      "|6458e96201ecb8d65...|B00S9RPGZU|    1.0| AM67N4I601TWQ|173642.0|1063.0|   0.8998626|\n",
      "|6458e97401ecb8d65...|B004JNU22A|    4.0|A2NTAJWH2U13XJ| 87094.0|5833.0|   3.9349976|\n",
      "|6458e97401ecb8d65...|B0006GVNOA|    5.0|A2LDP3A4IE9T6T| 83837.0|   6.0|    4.948071|\n",
      "|6458e98301ecb8d65...|B006LXOJC0|    5.0|A16DZZ68DLRDKP| 13694.0| 292.0|-0.032295927|\n",
      "|6458e99a01ecb8d65...|B0012WAE24|    5.0|A2U9K7YY204W9L|  2551.0| 221.0|   0.7449962|\n",
      "|6458e99901ecb8d65...|B000W5R6UA|    4.0|A17WW33PN7HTM3| 15884.0|2946.0|  0.42355138|\n",
      "|6458e99d01ecb8d65...|B0012WAE24|    5.0|A1RVDD4O9OPHAM|    29.0| 221.0|   4.9450893|\n",
      "|6458e9cf01ecb8d65...|B000KPIHQ4|    2.0| AP0DWHOZAF45R|177525.0|2395.0|  -1.0696821|\n",
      "|6458ea4501ecb8d65...|B002LE7DZI|    5.0| AV44N1KNS4AVR|185914.0| 793.0|   4.9503036|\n",
      "|6458ea9e01ecb8d65...|B000RGVPTC|    2.0|A2P6P0DKAR570Q| 88971.0|2688.0|   1.8795031|\n",
      "|6458eaa901ecb8d65...|B0010KZCFC|    5.0|A2HDTOF8222KN3| 78363.0|3197.0|   4.9450903|\n",
      "|6458eabc01ecb8d65...|B0015KIFKG|    5.0| AQHN8LO38OJFJ|179549.0|3656.0|   0.3444601|\n",
      "|6458eabf01ecb8d65...|B0017K7956|    5.0|A3EPHBMU07LZ50|   273.0|3807.0|   0.6979488|\n",
      "|6458eaf801ecb8d65...|B003T8SRR8|    5.0| A77PRS6B0FYUY|153060.0| 273.0|    4.949099|\n",
      "+--------------------+----------+-------+--------------+--------+------+------------+\n",
      "\n"
     ]
    }
   ],
   "source": [
    "predictions.show()"
   ]
  },
  {
   "cell_type": "code",
   "execution_count": 18,
   "id": "f03b9865",
   "metadata": {
    "scrolled": true
   },
   "outputs": [
    {
     "name": "stderr",
     "output_type": "stream",
     "text": [
      "23/05/14 00:19:55 WARN DAGScheduler: Broadcasting large task binary with size 8.8 MiB\n",
      "23/05/14 00:19:56 WARN DAGScheduler: Broadcasting large task binary with size 8.8 MiB\n",
      "23/05/14 00:19:56 WARN DAGScheduler: Broadcasting large task binary with size 8.8 MiB\n",
      "23/05/14 00:21:19 WARN DAGScheduler: Broadcasting large task binary with size 8.9 MiB\n"
     ]
    }
   ],
   "source": [
    "# Evaluating the performance of the model using RMSE metric\n",
    "evaluator = RegressionEvaluator(metricName=\"rmse\", labelCol=\"overall\", predictionCol=\"prediction\")\n",
    "rmse = evaluator.evaluate(predictions)\n"
   ]
  },
  {
   "cell_type": "code",
   "execution_count": 19,
   "id": "b1333498",
   "metadata": {},
   "outputs": [
    {
     "name": "stdout",
     "output_type": "stream",
     "text": [
      "Root-mean-square error = 3.008367991097954\n"
     ]
    }
   ],
   "source": [
    "print(\"Root-mean-square error = \" + str(rmse))"
   ]
  },
  {
   "cell_type": "code",
   "execution_count": 23,
   "id": "779046ef",
   "metadata": {},
   "outputs": [],
   "source": [
    "from pyspark.sql.functions import when, col\n",
    "from pyspark.ml.evaluation import MulticlassClassificationEvaluator\n",
    "\n",
    "# Convert the predictions to binary labels based on a threshold\n",
    "threshold = 3.0\n",
    "\n",
    "# Create a new column \"binary_overall\" to convert ratings above 3 to 1 and ratings below or equal to 3 to 0\n",
    "binary_predictions = predictions.withColumn(\"binary_overall\", when(predictions[\"overall\"] > threshold, 1).otherwise(0))\n",
    "\n",
    "# Create a new column \"binary_prediction\" to convert predicted ratings above 3 to 1 and predicted ratings below or equal to 3 to 0\n",
    "binary_predictions = binary_predictions.withColumn(\"binary_prediction\", when(binary_predictions[\"prediction\"] > threshold, 1).otherwise(0))\n",
    "\n"
   ]
  },
  {
   "cell_type": "code",
   "execution_count": 21,
   "id": "46ebd4c1",
   "metadata": {},
   "outputs": [
    {
     "name": "stderr",
     "output_type": "stream",
     "text": [
      "23/05/14 00:21:22 WARN DAGScheduler: Broadcasting large task binary with size 8.8 MiB\n",
      "23/05/14 00:21:22 WARN DAGScheduler: Broadcasting large task binary with size 8.8 MiB\n",
      "23/05/14 00:21:23 WARN DAGScheduler: Broadcasting large task binary with size 8.8 MiB\n",
      "23/05/14 00:23:03 WARN DAGScheduler: Broadcasting large task binary with size 8.8 MiB\n",
      "23/05/14 00:23:04 WARN DAGScheduler: Broadcasting large task binary with size 8.8 MiB\n",
      "23/05/14 00:23:04 WARN DAGScheduler: Broadcasting large task binary with size 8.8 MiB\n",
      "23/05/14 00:24:39 WARN DAGScheduler: Broadcasting large task binary with size 8.8 MiB\n",
      "23/05/14 00:24:40 WARN DAGScheduler: Broadcasting large task binary with size 8.8 MiB\n",
      "23/05/14 00:24:40 WARN DAGScheduler: Broadcasting large task binary with size 8.8 MiB\n",
      "                                                                                \r"
     ]
    }
   ],
   "source": [
    "# Calculate TP, FP, FN\n",
    "TP = binary_predictions.filter(\"binary_overall = 1 AND binary_prediction = 1\").count()\n",
    "FP = binary_predictions.filter(\"binary_overall = 0 AND binary_prediction = 1\").count()\n",
    "FN = binary_predictions.filter(\"binary_overall = 1 AND binary_prediction = 0\").count()\n"
   ]
  },
  {
   "cell_type": "code",
   "execution_count": 22,
   "id": "c90163da",
   "metadata": {},
   "outputs": [
    {
     "name": "stdout",
     "output_type": "stream",
     "text": [
      "12\n"
     ]
    }
   ],
   "source": [
    "print(TP)"
   ]
  },
  {
   "cell_type": "code",
   "execution_count": 24,
   "id": "25bc32a5",
   "metadata": {},
   "outputs": [],
   "source": [
    "if TP + FP == 0:\n",
    "    precision = 0.0\n",
    "else:\n",
    "    precision = TP / (TP + FP)\n",
    "\n",
    "if TP + FN == 0:\n",
    "    recall = 0.0\n",
    "else: \n",
    "    recall = TP / (TP + FN)"
   ]
  },
  {
   "cell_type": "code",
   "execution_count": 25,
   "id": "9072554b",
   "metadata": {},
   "outputs": [
    {
     "name": "stdout",
     "output_type": "stream",
     "text": [
      "1.0\n",
      "0.6666666666666666\n"
     ]
    }
   ],
   "source": [
    "print(precision)\n",
    "print(recall)"
   ]
  },
  {
   "cell_type": "code",
   "execution_count": 26,
   "id": "17785ffa",
   "metadata": {},
   "outputs": [
    {
     "name": "stdout",
     "output_type": "stream",
     "text": [
      "F1 score =  0.8\n"
     ]
    }
   ],
   "source": [
    "f1_score = 2 * (precision * recall) / (precision + recall)\n",
    "\n",
    "print(\"F1 score = \", f1_score)"
   ]
  },
  {
   "attachments": {},
   "cell_type": "markdown",
   "id": "1b4adeee",
   "metadata": {},
   "source": [
    "# SAVING MODEL FOR FLASK"
   ]
  },
  {
   "cell_type": "code",
   "execution_count": null,
   "id": "14c7d07d",
   "metadata": {},
   "outputs": [],
   "source": [
    "import pickle\n",
    "pickle.dump(predictons, open(\"model.pkl\", \"wb\"))"
   ]
  }
 ],
 "metadata": {
  "kernelspec": {
   "display_name": "Python 3 (ipykernel)",
   "language": "python",
   "name": "python3"
  },
  "language_info": {
   "codemirror_mode": {
    "name": "ipython",
    "version": 3
   },
   "file_extension": ".py",
   "mimetype": "text/x-python",
   "name": "python",
   "nbconvert_exporter": "python",
   "pygments_lexer": "ipython3",
   "version": "3.10.6"
  }
 },
 "nbformat": 4,
 "nbformat_minor": 5
}
