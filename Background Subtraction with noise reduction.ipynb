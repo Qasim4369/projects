{
 "cells": [
  {
   "cell_type": "markdown",
   "id": "c14730a5",
   "metadata": {},
   "source": [
    "## Background Subtraction with noise reduction"
   ]
  },
  {
   "cell_type": "code",
   "execution_count": 1,
   "id": "a0dac1cb",
   "metadata": {},
   "outputs": [],
   "source": [
    "import cv2\n",
    "import numpy as np"
   ]
  },
  {
   "cell_type": "code",
   "execution_count": 9,
   "id": "ca8e8f0d",
   "metadata": {},
   "outputs": [],
   "source": [
    "cap = cv2.VideoCapture('hands.mp4')"
   ]
  },
  {
   "cell_type": "code",
   "execution_count": 10,
   "id": "c9faed7f",
   "metadata": {},
   "outputs": [],
   "source": [
    "# Create Kernel for noise reduction \n",
    "kernel = cv2.getStructuringElement(cv2.MORPH_ELLIPSE,(3,3))\n",
    "# Create a background subtractor object\n",
    "bg_subtractor = cv2.createBackgroundSubtractorMOG2()"
   ]
  },
  {
   "cell_type": "code",
   "execution_count": 11,
   "id": "4542afcf",
   "metadata": {},
   "outputs": [],
   "source": [
    "while True:\n",
    "    # Read the frame\n",
    "    ret, frame = cap.read()\n",
    "    if not ret:\n",
    "        break\n",
    "\n",
    "    # Apply background subtraction\n",
    "    fg_mask = bg_subtractor.apply(frame)\n",
    "\n",
    "    # Display the foreground mask\n",
    "    cv2.imshow('Before Noise Reduction', fg_mask)\n",
    "    \n",
    "    # Apply Transformation to reduce noise \n",
    "    fg_mask =  cv2.morphologyEx(fg_mask,cv2.MORPH_OPEN,kernel)\n",
    "    \n",
    "    # Display the foreground mask\n",
    "    cv2.imshow('After Noise Reduction', fg_mask)\n",
    "\n",
    "    # Check for 'q' key to exit\n",
    "    if cv2.waitKey(1) == ord('q'):\n",
    "        break\n",
    "\n",
    "# Release the video capture and close windows\n",
    "cap.release()\n",
    "cv2.destroyAllWindows()\n"
   ]
  },
  {
   "cell_type": "code",
   "execution_count": null,
   "id": "b775b3b7",
   "metadata": {},
   "outputs": [],
   "source": []
  }
 ],
 "metadata": {
  "kernelspec": {
   "display_name": "Python 3 (ipykernel)",
   "language": "python",
   "name": "python3"
  },
  "language_info": {
   "codemirror_mode": {
    "name": "ipython",
    "version": 3
   },
   "file_extension": ".py",
   "mimetype": "text/x-python",
   "name": "python",
   "nbconvert_exporter": "python",
   "pygments_lexer": "ipython3",
   "version": "3.9.12"
  }
 },
 "nbformat": 4,
 "nbformat_minor": 5
}
