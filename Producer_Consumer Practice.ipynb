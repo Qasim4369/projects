{
 "cells": [
  {
   "cell_type": "markdown",
   "id": "1a0e25a3",
   "metadata": {},
   "source": [
    "## QUESTION 1"
   ]
  },
  {
   "cell_type": "code",
   "execution_count": 24,
   "id": "50963d4e",
   "metadata": {},
   "outputs": [
    {
     "data": {
      "text/html": [
       "<div>\n",
       "<style scoped>\n",
       "    .dataframe tbody tr th:only-of-type {\n",
       "        vertical-align: middle;\n",
       "    }\n",
       "\n",
       "    .dataframe tbody tr th {\n",
       "        vertical-align: top;\n",
       "    }\n",
       "\n",
       "    .dataframe thead th {\n",
       "        text-align: right;\n",
       "    }\n",
       "</style>\n",
       "<table border=\"1\" class=\"dataframe\">\n",
       "  <thead>\n",
       "    <tr style=\"text-align: right;\">\n",
       "      <th></th>\n",
       "      <th>orderid</th>\n",
       "      <th>productid</th>\n",
       "      <th>customerid</th>\n",
       "      <th>timestamp</th>\n",
       "      <th>quantity</th>\n",
       "    </tr>\n",
       "  </thead>\n",
       "  <tbody>\n",
       "    <tr>\n",
       "      <th>0</th>\n",
       "      <td>1</td>\n",
       "      <td>01</td>\n",
       "      <td>010</td>\n",
       "      <td>122</td>\n",
       "      <td>1</td>\n",
       "    </tr>\n",
       "    <tr>\n",
       "      <th>1</th>\n",
       "      <td>2</td>\n",
       "      <td>02</td>\n",
       "      <td>011</td>\n",
       "      <td>400</td>\n",
       "      <td>2</td>\n",
       "    </tr>\n",
       "    <tr>\n",
       "      <th>2</th>\n",
       "      <td>3</td>\n",
       "      <td>03</td>\n",
       "      <td>012</td>\n",
       "      <td>460</td>\n",
       "      <td>3</td>\n",
       "    </tr>\n",
       "    <tr>\n",
       "      <th>3</th>\n",
       "      <td>4</td>\n",
       "      <td>04</td>\n",
       "      <td>013</td>\n",
       "      <td>800</td>\n",
       "      <td>4</td>\n",
       "    </tr>\n",
       "    <tr>\n",
       "      <th>4</th>\n",
       "      <td>5</td>\n",
       "      <td>05</td>\n",
       "      <td>014</td>\n",
       "      <td>600</td>\n",
       "      <td>5</td>\n",
       "    </tr>\n",
       "    <tr>\n",
       "      <th>5</th>\n",
       "      <td>6</td>\n",
       "      <td>01</td>\n",
       "      <td>010</td>\n",
       "      <td>122</td>\n",
       "      <td>2</td>\n",
       "    </tr>\n",
       "    <tr>\n",
       "      <th>6</th>\n",
       "      <td>7</td>\n",
       "      <td>09</td>\n",
       "      <td>011</td>\n",
       "      <td>400</td>\n",
       "      <td>3</td>\n",
       "    </tr>\n",
       "    <tr>\n",
       "      <th>7</th>\n",
       "      <td>8</td>\n",
       "      <td>10</td>\n",
       "      <td>012</td>\n",
       "      <td>460</td>\n",
       "      <td>5</td>\n",
       "    </tr>\n",
       "    <tr>\n",
       "      <th>8</th>\n",
       "      <td>9</td>\n",
       "      <td>04</td>\n",
       "      <td>013</td>\n",
       "      <td>800</td>\n",
       "      <td>1</td>\n",
       "    </tr>\n",
       "    <tr>\n",
       "      <th>9</th>\n",
       "      <td>10</td>\n",
       "      <td>05</td>\n",
       "      <td>014</td>\n",
       "      <td>600</td>\n",
       "      <td>5</td>\n",
       "    </tr>\n",
       "  </tbody>\n",
       "</table>\n",
       "</div>"
      ],
      "text/plain": [
       "  orderid productid customerid timestamp quantity\n",
       "0       1        01        010       122        1\n",
       "1       2        02        011       400        2\n",
       "2       3        03        012       460        3\n",
       "3       4        04        013       800        4\n",
       "4       5        05        014       600        5\n",
       "5       6        01        010       122        2\n",
       "6       7        09        011       400        3\n",
       "7       8        10        012       460        5\n",
       "8       9        04        013       800        1\n",
       "9      10        05        014       600        5"
      ]
     },
     "execution_count": 24,
     "metadata": {},
     "output_type": "execute_result"
    }
   ],
   "source": [
    "import pandas as pd\n",
    "import matplotlib\n",
    "import numpy as np\n",
    "import matplotlib.pyplot as plt\n",
    "data = {'orderid':  ['1','2','3','4','5','6','7','8','9','10'],\n",
    "        'productid': ['01', '02','03','04','05','01','09','10','04','05'],\n",
    "        'customerid': ['010', '011','012','013','014','010', '011','012','013','014'],\n",
    "        'timestamp': ['122', '400','460','800','600','122', '400','460','800','600' ],\n",
    "        'quantity': ['1','2','3','4','5','2','3','5','1','5']\n",
    "        }\n",
    "df = pd.DataFrame(data)\n",
    "df.head(10)"
   ]
  },
  {
   "cell_type": "code",
   "execution_count": 25,
   "id": "378e3bbe",
   "metadata": {},
   "outputs": [
    {
     "data": {
      "text/plain": [
       "(10, 5)"
      ]
     },
     "execution_count": 25,
     "metadata": {},
     "output_type": "execute_result"
    }
   ],
   "source": [
    "df.shape"
   ]
  },
  {
   "cell_type": "code",
   "execution_count": 26,
   "id": "f81500a6",
   "metadata": {},
   "outputs": [
    {
     "data": {
      "text/plain": [
       "Index(['orderid', 'productid', 'customerid', 'timestamp', 'quantity'], dtype='object')"
      ]
     },
     "execution_count": 26,
     "metadata": {},
     "output_type": "execute_result"
    }
   ],
   "source": [
    "df.columns"
   ]
  },
  {
   "cell_type": "code",
   "execution_count": 27,
   "id": "e58407b2",
   "metadata": {},
   "outputs": [
    {
     "data": {
      "text/plain": [
       "<bound method DataFrame.info of   orderid productid customerid timestamp quantity\n",
       "0       1        01        010       122        1\n",
       "1       2        02        011       400        2\n",
       "2       3        03        012       460        3\n",
       "3       4        04        013       800        4\n",
       "4       5        05        014       600        5\n",
       "5       6        01        010       122        2\n",
       "6       7        09        011       400        3\n",
       "7       8        10        012       460        5\n",
       "8       9        04        013       800        1\n",
       "9      10        05        014       600        5>"
      ]
     },
     "execution_count": 27,
     "metadata": {},
     "output_type": "execute_result"
    }
   ],
   "source": [
    "df.info"
   ]
  },
  {
   "cell_type": "code",
   "execution_count": 28,
   "id": "ee6c4b73",
   "metadata": {},
   "outputs": [
    {
     "data": {
      "text/plain": [
       "<bound method NDFrame.describe of   orderid productid customerid timestamp quantity\n",
       "0       1        01        010       122        1\n",
       "1       2        02        011       400        2\n",
       "2       3        03        012       460        3\n",
       "3       4        04        013       800        4\n",
       "4       5        05        014       600        5\n",
       "5       6        01        010       122        2\n",
       "6       7        09        011       400        3\n",
       "7       8        10        012       460        5\n",
       "8       9        04        013       800        1\n",
       "9      10        05        014       600        5>"
      ]
     },
     "execution_count": 28,
     "metadata": {},
     "output_type": "execute_result"
    }
   ],
   "source": [
    "df.describe"
   ]
  },
  {
   "cell_type": "code",
   "execution_count": 37,
   "id": "0c670d4d",
   "metadata": {},
   "outputs": [
    {
     "data": {
      "text/plain": [
       "<BarContainer object of 10 artists>"
      ]
     },
     "execution_count": 37,
     "metadata": {},
     "output_type": "execute_result"
    },
    {
     "data": {
      "image/png": "[encoded data removed]",
      "text/plain": [
       "<Figure size 432x288 with 1 Axes>"
      ]
     },
     "metadata": {
      "needs_background": "light"
     },
     "output_type": "display_data"
    }
   ],
   "source": [
    "x=df['productid']\n",
    "y=df['quantity']\n",
    "plt.bar(x,y)"
   ]
  },
  {
   "cell_type": "markdown",
   "id": "0726b96f",
   "metadata": {},
   "source": [
    "# Producer Task"
   ]
  },
  {
   "cell_type": "code",
   "execution_count": 47,
   "id": "0ddaea58",
   "metadata": {},
   "outputs": [],
   "source": [
    "from time import sleep\n",
    "from random import random\n",
    "from threading import Thread\n",
    "from queue import Queue\n",
    "import numpy as np\n",
    " \n",
    "\n",
    "def producer(queue):\n",
    "    print('Producer: Running')\n",
    "    # generate items\n",
    "    for i in range(10000):\n",
    "        #sleep(1)\n",
    "        # create a tuple\n",
    "        order = np.random.binomial(1, 0.2, 10000)\n",
    "        # add to the queue\n",
    "        queue.put(order)\n",
    "        # report progress\n",
    "        #print(f'>producer added {item}')\n",
    "    # signal that there are no further items\n",
    "    queue.put(None)\n",
    "    print(order.shape) \n",
    "    print('Producer: Done')\n"
   ]
  },
  {
   "cell_type": "markdown",
   "id": "ee064d7b",
   "metadata": {},
   "source": [
    "# Consumer Task"
   ]
  },
  {
   "cell_type": "code",
   "execution_count": 39,
   "id": "1dbc863f",
   "metadata": {},
   "outputs": [],
   "source": [
    "def consumer(queue):\n",
    "    print('Consumer: Running')\n",
    "    arr = [0 for i in range(10)]\n",
    "    # consume items\n",
    "    while True:\n",
    "        order = queue.get()\n",
    "        order = order.reshape(-1, 100)\n",
    "        for x in range(100):\n",
    "        \tfor y in range(100):\n",
    "            \t\tif (order[x, y] == 1):\n",
    "                \t\tarr[x]= arr[x]+1\n",
    "        if order is None:\n",
    "            break\n",
    "        #sleep(1)\n",
    "    # all done\n",
    "    print('Consumer: Done')\n",
    "    print(f'Top Selling Items : {arr}')"
   ]
  },
  {
   "cell_type": "code",
   "execution_count": 40,
   "id": "d5cca63d",
   "metadata": {},
   "outputs": [
    {
     "name": "stderr",
     "output_type": "stream",
     "text": [
      "Exception in thread Thread-5:\n",
      "Traceback (most recent call last):\n",
      "  File \"C:\\Users\\hp\\anaconda3\\lib\\threading.py\", line 973, in _bootstrap_inner\n",
      "    self.run()\n",
      "  File \"C:\\Users\\hp\\anaconda3\\lib\\threading.py\", line 910, in run\n",
      "    self._target(*self._args, **self._kwargs)\n",
      "  File \"C:\\Users\\hp\\AppData\\Local\\Temp\\ipykernel_2864\\2611329044.py\", line 7, in consumer\n",
      "AttributeError: 'NoneType' object has no attribute 'reshape'\n"
     ]
    },
    {
     "name": "stdout",
     "output_type": "stream",
     "text": [
      "Consumer: Running\n",
      "Producer: Running\n",
      "(1000,)\n",
      "Producer: Done\n"
     ]
    }
   ],
   "source": [
    "# create the shared queue\n",
    "queue = Queue()\n",
    "# start the consumer\n",
    "consumer = Thread(target=consumer, args=(queue,))\n",
    "consumer.start()\n",
    "# start the producer\n",
    "producer = Thread(target=producer, args=(queue,))\n",
    "producer.start()\n",
    "# wait for all threads to finish\n",
    "producer.join()\n",
    "consumer.join()"
   ]
  },
  {
   "cell_type": "markdown",
   "id": "72925f94",
   "metadata": {},
   "source": [
    "## QUESTION 2"
   ]
  },
  {
   "cell_type": "code",
   "execution_count": 46,
   "id": "d9fe9ee4",
   "metadata": {},
   "outputs": [
    {
     "name": "stdout",
     "output_type": "stream",
     "text": [
      "Collecting pyspark\n",
      "  Downloading pyspark-3.4.0.tar.gz (310.8 MB)\n",
      "Collecting py4j==0.10.9.7\n",
      "  Downloading py4j-0.10.9.7-py2.py3-none-any.whl (200 kB)\n",
      "Building wheels for collected packages: pyspark\n",
      "  Building wheel for pyspark (setup.py): started\n",
      "  Building wheel for pyspark (setup.py): still running...\n",
      "  Building wheel for pyspark (setup.py): finished with status 'done'\n",
      "  Created wheel for pyspark: filename=pyspark-3.4.0-py2.py3-none-any.whl size=311317161 sha256=1e91f4c7eb7bd393d0406fb839f0f309e68467313ae93cdf720370fa4bbd4bbd\n",
      "  Stored in directory: c:\\users\\hp\\appdata\\local\\pip\\cache\\wheels\\9f\\34\\a4\\159aa12d0a510d5ff7c8f0220abbea42e5d81ecf588c4fd884\n",
      "Successfully built pyspark\n",
      "Installing collected packages: py4j, pyspark\n",
      "Successfully installed py4j-0.10.9.7 pyspark-3.4.0\n"
     ]
    }
   ],
   "source": [
    "!pip install pyspark\n",
    "import pyspark\n",
    "from pyspark.sql import SparkSession"
   ]
  },
  {
   "cell_type": "code",
   "execution_count": 73,
   "id": "f0f25c74",
   "metadata": {},
   "outputs": [
    {
     "ename": "IndentationError",
     "evalue": "unexpected indent (2710478702.py, line 4)",
     "output_type": "error",
     "traceback": [
      "\u001b[1;36m  Input \u001b[1;32mIn [73]\u001b[1;36m\u001b[0m\n\u001b[1;33m    .appName(\"MyApp\")\\\u001b[0m\n\u001b[1;37m    ^\u001b[0m\n\u001b[1;31mIndentationError\u001b[0m\u001b[1;31m:\u001b[0m unexpected indent\n"
     ]
    }
   ],
   "source": [
    "from pyspark import SparkContext, SparkConf\n",
    "conf = SparkConf().setAppName(\"pyspark_practice\").setMaster(\"local\")\n",
    "sc = SparkContext(conf=conf)\n",
    "# Create Session\n",
    "spark = SparkSession\\\n",
    "    .builder\n",
    "    .appName(\"MyApp\")\\\n",
    "    .config(\"spark.some.config.option\", \"config-value\")\\\n",
    "    .getOrCreate()\n",
    "\n",
    "# Read Csv File\n",
    "df = spark.read.csv(\"C:\\Users\\hp\\Downloads\\iris.csv\")\n",
    "\n",
    "#PreProcessing\n",
    "\n",
    "df.show()\n",
    "\n",
    "df.printSchema()\n",
    "\n",
    "#Defining X and Y\n",
    "x=df[\"sepal.length\"]\n",
    "y=df[\"sepal.width\"]"
   ]
  },
  {
   "cell_type": "code",
   "execution_count": null,
   "id": "176a9149",
   "metadata": {},
   "outputs": [],
   "source": [
    "from sklearn.model_selection import train_test_split\n",
    "Xtrain,Xtest,Ytrain,Ytest = train_test_split(y[:1000],x[:1000],test_size=0.2,random_state=51)phir kah \n"
   ]
  },
  {
   "cell_type": "markdown",
   "id": "eae395e6",
   "metadata": {},
   "source": [
    "## Random Forest Classifier"
   ]
  },
  {
   "cell_type": "code",
   "execution_count": null,
   "id": "e67f5367",
   "metadata": {},
   "outputs": [],
   "source": [
    "from sklearn.ensemble import RandomForestClassifier\n",
    "from sklearn.datasets import make_classification\n",
    "clf = RandomForestClassifier()\n",
    "clf = clf.fit(Xtrain[:1000], Ytrain[:1000])\n",
    "pred=clf.predict(Xtest[:1000])\n",
    "print (pred)\n",
    "clf.score(Xtest[:1000],Ytest[:1000])\n",
    "from sklearn.metrics import confusion_matrix\n",
    "from sklearn.metrics import accuracy_score\n",
    "from sklearn.metrics import f1_score\n",
    "from sklearn.metrics import classification_report \n",
    "print (\"Accuracy : \" , accuracy_score(Ytest[:1000],pred)*100)  \n",
    "print(\"Report : \\n\", classification_report(Ytest[:1000], pred))\n",
    "print(\"F1 Score : \",f1_score(Ytest[:1000], pred, average='weighted')*100)\n",
    "print(\"Confusion Matrix\\n: \",confusion_matrix(Ytest[:1000],pred))"
   ]
  },
  {
   "cell_type": "markdown",
   "id": "1f9bd00b",
   "metadata": {},
   "source": [
    "## Decision Tree Classifier"
   ]
  },
  {
   "cell_type": "code",
   "execution_count": null,
   "id": "7515b025",
   "metadata": {},
   "outputs": [],
   "source": [
    "from sklearn import tree\n",
    "clf = tree.DecisionTreeClassifier()\n",
    "clf = clf.fit(Xtrain[:1000], Ytrain[:1000])\n",
    "pred=clf.predict(Xtest[:1000])\n",
    "print (pred)\n",
    "clf.score(Xtest[:1000],Ytest[:1000])\n",
    "print (\"Accuracy : \" , accuracy_score(Ytest[:1000],pred)*100)  \n",
    "print(\"Report : \\n\", classification_report(Ytest[:1000], pred))\n",
    "print(\"F1 Score : \",f1_score(Ytest[:1000], pred, average='weighted')*100)\n",
    "print(\"Confusion Matrix\\n: \",confusion_matrix(Ytest[:1000],pred))"
   ]
  },
  {
   "cell_type": "markdown",
   "id": "401cd26d",
   "metadata": {},
   "source": [
    "## Support Vector Classifier"
   ]
  },
  {
   "cell_type": "code",
   "execution_count": null,
   "id": "4c6a971a",
   "metadata": {},
   "outputs": [],
   "source": [
    "from sklearn.ensemble import BaggingClassifier\n",
    "clf3 = BaggingClassifier()\n",
    "clf3 = clf3.fit(x_train[:1500],y_train[:1500])\n",
    "pred3=clf3.predict(x_test[:1500])\n",
    "print (pred3)\n",
    "clf3.score(x_test,y_test)\n",
    "print (\"Accuracy : \" , accuracy_score(y_test[:1500],pred3)*100)  \n",
    "print(\"Report : \\n\", classification_report(y_test[:1500], pred3))\n",
    "print(\"F1 Score : \",f1_score(y_test[:1500], pred3, average='weighted')*100)\n",
    "print(\"Confusion Matrix\\n: \",confusion_matrix(y_test[:1500],pred3))"
   ]
  },
  {
   "cell_type": "markdown",
   "id": "c5711559",
   "metadata": {},
   "source": [
    "## QUESTION 3\n"
   ]
  },
  {
   "cell_type": "markdown",
   "id": "d505c614",
   "metadata": {},
   "source": [
    "### Mapper Code"
   ]
  },
  {
   "cell_type": "code",
   "execution_count": null,
   "id": "75fc6d96",
   "metadata": {},
   "outputs": [],
   "source": [
    "#!/usr/bin/env python\n",
    "\n",
    "import sys\n",
    "import math\n",
    "\n",
    "centroid1 = [1.667, 2]\n",
    "centroid2 = [3.57, 3.71]\n",
    "\n",
    "for line in sys.stdin:\n",
    "\n",
    "    point = list(map(float, line.strip().split(',')))\n",
    "\n",
    "\n",
    "    dist_cent1 = math.sqrt((point[0] - centroid1[0]) ** 2 + (point[1] - centroid1[1]) ** 2)\n",
    "    dist_cent2 = math.sqrt((point[0] - centroid2[0]) ** 2 + (point[1] - centroid2[1]) ** 2)\n",
    "\n",
    "    \n",
    "    print(f\"{point}\\t{dist_cent1},{dist_cent2}\")\n",
    "\n"
   ]
  },
  {
   "cell_type": "markdown",
   "id": "6ea84a52",
   "metadata": {},
   "source": [
    "## Reducer Code"
   ]
  },
  {
   "cell_type": "code",
   "execution_count": null,
   "id": "b57fc9b4",
   "metadata": {},
   "outputs": [],
   "source": [
    "#!/usr/bin/env python\n",
    "\n",
    "import sys\n",
    "import numpy as np\n",
    "\n",
    "points1 = []\n",
    "points2 = []\n",
    "coord1 = np.array([0.0, 0.0])\n",
    "coord2 = np.array([0.0, 0.0])\n",
    "\n",
    "for line in sys.stdin:\n",
    "\n",
    "    point, dists = line.strip().split('\\t')\n",
    "    point = list(map(float, point.strip('[]').split(',')))\n",
    "    dist1, dist2 = map(float, dists.split(','))\n",
    "\n",
    "\n",
    "    if dist1 < dist2:\n",
    "        points1.append(point)\n",
    "        coord1 += np.array(point)\n",
    "    else:\n",
    "        points2.append(point)\n",
    "        coord2 += np.array(point)\n",
    "\n",
    "\n",
    "new_centroid1 = coord1 / len(points1)\n",
    "new_centroid2 = coord2 / len(points2)\n",
    "\n",
    "print(f\"Centroid 1: {new_centroid1}\")\n",
    "print(f\"Centroid 2: {new_centroid2}\")\n",
    "for i, point in enumerate(points1):\n",
    "    print(f\"Point P{i}: {point} should be in centroid 1\")\n",
    "for i, point in enumerate(points2):\n",
    "    print(f\"Point P{i}: {point} should be in centroid 2\")"
   ]
  },
  {
   "cell_type": "markdown",
   "id": "fc89356c",
   "metadata": {},
   "source": [
    "## Part 2"
   ]
  },
  {
   "cell_type": "code",
   "execution_count": 68,
   "id": "143ecb19",
   "metadata": {},
   "outputs": [
    {
     "name": "stdout",
     "output_type": "stream",
     "text": [
      "Pakistan Islamabad KPK\n",
      "3\n"
     ]
    }
   ],
   "source": [
    "class Country:\n",
    "    def __init__(self, name,capital,provinces):\n",
    "        self.name=name\n",
    "        self.capital=capital\n",
    "        self.provinces=provinces\n",
    "        \n",
    "    def printDetails(self):\n",
    "        print(self.name, self.capital, self.provinces)\n",
    "class Province(Country):\n",
    "    def __init__(self, name,capital,provinces,district):\n",
    "        self.district=district\n",
    "        \n",
    "        Country.__init__(self, name,capital,provinces)\n",
    "    def printDistrict(self):\n",
    "        print(self.district)\n",
    "\n",
    "x = Province(\"Pakistan\", \"Islamabad\",\"KPK\",\"3\")\n",
    "\n",
    "x.printDetails()\n",
    "x.printDistrict()"
   ]
  },
  {
   "cell_type": "markdown",
   "id": "c528e8d8",
   "metadata": {},
   "source": [
    "## QUESTION 4"
   ]
  },
  {
   "cell_type": "code",
   "execution_count": null,
   "id": "0a6e7c38",
   "metadata": {},
   "outputs": [],
   "source": [
    "#Create DockerFile\n",
    "cd /bda\n",
    " python3 -m venv .venv\n",
    " source .venv/bin/activate\n",
    " python3 -m pip install Flask\n",
    " python3 -m pip freeze > requirements.txt\n",
    " touch app.py\n",
    "#To Start the app\n",
    "cd /bda\n",
    " source .venv/bin/activate\n",
    " python3 -m flask run\n",
    "#Create Dockerfile\n",
    "mkdir /bda\n",
    "# syntax=docker/dockerfile:1\n",
    "FROM python:3.8-slim-buster\n",
    "#Build the container image.\n",
    "docker build --ubunutu.\n",
    " [internal] load build definition from Dockerfile\n",
    " => transferring dockerfile: 203B\n",
    " [internal] load .dockerignore\n",
    " => transferring context: 2B\n",
    " [internal] load metadata for docker.io/library/python:3.8-slim-buster\n",
    " [1/6] FROM docker.io/library/python:3.8-slim-buster\n",
    " [internal] load build context\n",
    " => transferring context: 953B\n",
    " CACHED [2/6] WORKDIR /app\n",
    " [3/6] COPY requirements.txt requirements.txt\n",
    " [4/6] RUN pip3 install -r requirements.txt\n",
    " [5/6] COPY . .\n",
    " [6/6] CMD [\"python3\", \"-m\", \"flask\", \"run\", \"--host=0.0.0.0\"]\n",
    " exporting to image\n",
    " => exporting layers\n",
    " => writing image sha256:8cae92a8fbd6d091ce687b71b31252056944b09760438905b726625831564c4c\n",
    " => naming to docker.io/library/ubuntu\n",
    "#Run Docker  \n",
    "docker run python-docker"
   ]
  },
  {
   "cell_type": "code",
   "execution_count": 70,
   "id": "93cd8d37",
   "metadata": {},
   "outputs": [],
   "source": [
    "#In app.py\n",
    "from flask import Flask\n",
    "app = Flask(__name__)\n",
    "\n",
    "@app.route('/')\n",
    "def Random_Array():\n",
    "    #Code For code.py for Dockerfile\n",
    "    x = np.random.random(10)\n",
    "    print(\"Original array:\")\n",
    "    print(x)\n",
    "    x.sort()\n",
    "    print(\"Sorted array:\")\n",
    "    print(x)\n",
    "    return x"
   ]
  },
  {
   "cell_type": "code",
   "execution_count": 75,
   "id": "eabbca0d",
   "metadata": {},
   "outputs": [
    {
     "name": "stdout",
     "output_type": "stream",
     "text": [
      "Original array:\n",
      "[0.21013774 0.71599599 0.42792188 0.5885261  0.61777933 0.55066124\n",
      " 0.58659631 0.90560002 0.86635194 0.2464309 ]\n",
      "Sorted array:\n",
      "[0.21013774 0.2464309  0.42792188 0.55066124 0.58659631 0.5885261\n",
      " 0.61777933 0.71599599 0.86635194 0.90560002]\n"
     ]
    }
   ],
   "source": [
    "#CODE\n",
    "x = np.random.random(10)\n",
    "print(\"Original array:\")\n",
    "print(x)\n",
    "x.sort()\n",
    "print(\"Sorted array:\")\n",
    "print(x)"
   ]
  },
  {
   "cell_type": "code",
   "execution_count": null,
   "id": "fb1c078c",
   "metadata": {},
   "outputs": [],
   "source": []
  }
 ],
 "metadata": {
  "kernelspec": {
   "display_name": "Python 3 (ipykernel)",
   "language": "python",
   "name": "python3"
  },
  "language_info": {
   "codemirror_mode": {
    "name": "ipython",
    "version": 3
   },
   "file_extension": ".py",
   "mimetype": "text/x-python",
   "name": "python",
   "nbconvert_exporter": "python",
   "pygments_lexer": "ipython3",
   "version": "3.9.12"
  }
 },
 "nbformat": 4,
 "nbformat_minor": 5
}
