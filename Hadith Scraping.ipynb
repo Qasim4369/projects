{
 "cells": [
  {
   "cell_type": "markdown",
   "id": "d53b101d",
   "metadata": {},
   "source": [
    "## M. Qasim Shafiq\n",
    "## Day 4 Task 2"
   ]
  },
  {
   "cell_type": "code",
   "execution_count": 14,
   "id": "e9b241a5",
   "metadata": {},
   "outputs": [],
   "source": [
    "import urllib.request\n",
    "from bs4 import BeautifulSoup as bs\n",
    "import sqlite3\n",
    "import re\n",
    "import pandas as pd"
   ]
  },
  {
   "cell_type": "code",
   "execution_count": 16,
   "id": "ce4bf162",
   "metadata": {},
   "outputs": [],
   "source": [
    "page = urllib.request.urlopen(\"https://40hadithnawawi.com/\")\n",
    "soup = bs(page)"
   ]
  },
  {
   "cell_type": "code",
   "execution_count": 61,
   "id": "57d63944",
   "metadata": {},
   "outputs": [
    {
     "name": "stdout",
     "output_type": "stream",
     "text": [
      "[('1', 'Actions are by intentions'), ('2', 'Islam, Iman, Ihsan'), ('3', 'Islam is Built Upon Five'), ('4', 'Deeds are by Their Final Actions'), ('5', 'Rejection of Evil Deeds and Innovations'), ('6', 'Protecting the Heart'), ('7', 'The Religion is Naseehah (Sincere Advice)'), ('8', 'The Sanctity of a Muslim'), ('9', 'Obligations are According to Ability'), ('10', 'Restricting Oneself to the Permissible'), ('11', 'Being Cautious of the Doubtful'), ('12', 'Leaving that Which Does Not Concern You'), ('13', 'Love for Your Brother What You Love for Yourself'), ('14', 'Prohibition of Blood of a Muslim'), ('15', 'Islamic Manners'), ('16', 'The Forbiddance of Anger'), ('17', 'Prescription of Ihsan (Perfection)'), ('18', 'Follow Up a Bad Deed with a Good Deed'), ('19', 'Be Mindful of Allah and Allah will Protect You'), ('20', 'Modesty is from Faith'), ('21', \"Say 'I believe in Allah' and then be Steadfast\"), ('22', 'Entering Paradise'), ('23', 'Hastening to Do Good'), ('24', 'The Forbiddance of Oppression'), ('25', 'The Value of Charity'), ('26', 'What is Sadaqa?'), ('27', 'Righteousness is in Good Character'), ('28', 'The Obligation of Following the Sunnah'), ('29', 'Means of Goodness'), ('30', 'Do Not Neglect the Religious Obligations'), ('31', 'The Reality of Zuhd (Asceticism)'), ('32', 'No Harming nor Reciprocating Harm'), ('33', 'The Onus of Proof is on the Claimant and The Taking of an Oath is on the Denier'), ('34', 'Forbidding Evil with the Hands, Speech, and Heart'), ('35', 'Brotherhood in Islam'), ('36', 'The Virtue of Gathering for the Remembrance of Allah'), ('37', 'The Grace of Allah and His Mercy'), ('38', 'Attaining Nearness to Allah and His Love'), ('39', 'Leniency for the One who Errs, the One who Forgets, and the One who is Forced'), ('40', 'Be in This World As a Traveler'), ('41', 'The World is the Means for Attaining the Hereafter'), ('42', 'The Expanse of the Forgiveness of Allah'), ('1', 'Actions are by intentions'), ('2', 'Islam, Iman, Ihsan'), ('3', 'Islam is Built Upon Five'), ('4', 'Deeds are by Their Final Actions'), ('5', 'Rejection of Evil Deeds and Innovations'), ('6', 'Protecting the Heart'), ('7', 'The Religion is Naseehah (Sincere Advice)'), ('8', 'The Sanctity of a Muslim'), ('9', 'Obligations are According to Ability'), ('10', 'Restricting Oneself to the Permissible'), ('11', 'Being Cautious of the Doubtful'), ('12', 'Leaving that Which Does Not Concern You'), ('13', 'Love for Your Brother What You Love for Yourself'), ('14', 'Prohibition of Blood of a Muslim'), ('15', 'Islamic Manners'), ('16', 'The Forbiddance of Anger'), ('17', 'Prescription of Ihsan (Perfection)'), ('18', 'Follow Up a Bad Deed with a Good Deed'), ('19', 'Be Mindful of Allah and Allah will Protect You'), ('20', 'Modesty is from Faith'), ('21', \"Say 'I believe in Allah' and then be Steadfast\"), ('22', 'Entering Paradise'), ('23', 'Hastening to Do Good'), ('24', 'The Forbiddance of Oppression'), ('25', 'The Value of Charity'), ('26', 'What is Sadaqa?'), ('27', 'Righteousness is in Good Character'), ('28', 'The Obligation of Following the Sunnah'), ('29', 'Means of Goodness'), ('30', 'Do Not Neglect the Religious Obligations'), ('31', 'The Reality of Zuhd (Asceticism)'), ('32', 'No Harming nor Reciprocating Harm'), ('33', 'The Onus of Proof is on the Claimant and The Taking of an Oath is on the Denier'), ('34', 'Forbidding Evil with the Hands, Speech, and Heart'), ('35', 'Brotherhood in Islam'), ('36', 'The Virtue of Gathering for the Remembrance of Allah'), ('37', 'The Grace of Allah and His Mercy'), ('38', 'Attaining Nearness to Allah and His Love'), ('39', 'Leniency for the One who Errs, the One who Forgets, and the One who is Forced'), ('40', 'Be in This World As a Traveler'), ('41', 'The World is the Means for Attaining the Hereafter'), ('42', 'The Expanse of the Forgiveness of Allah')]\n"
     ]
    }
   ],
   "source": [
    "hadiths = []\n",
    "elements = soup.find_all(\"p\")\n",
    "\n",
    "for i in range(0, len(elements), 2):\n",
    "    index = elements[i].text.strip(\"Hadith \")\n",
    "    title = elements[i+1].text\n",
    "    \n",
    "    hadiths.append((index,title))\n",
    "\n",
    "# Print the index and title lists\n",
    "\n",
    "print(hadiths)"
   ]
  },
  {
   "cell_type": "code",
   "execution_count": 58,
   "id": "f4bfc721",
   "metadata": {},
   "outputs": [],
   "source": [
    "#Save to database\n",
    "conn = sqlite3.connect(\"hadiths.db\")\n",
    "cursor = conn.cursor()"
   ]
  },
  {
   "cell_type": "code",
   "execution_count": 59,
   "id": "a5466a12",
   "metadata": {},
   "outputs": [],
   "source": [
    "cursor.execute(\"CREATE TABLE IF NOT EXISTS hadiths (number TEXT, text TEXT)\")\n",
    "cursor.executemany(\"INSERT INTO hadiths VALUES (?, ?)\", hadiths)\n",
    "conn.commit()"
   ]
  },
  {
   "cell_type": "code",
   "execution_count": 60,
   "id": "ea1ab8da",
   "metadata": {},
   "outputs": [],
   "source": [
    "conn.close()"
   ]
  }
 ],
 "metadata": {
  "kernelspec": {
   "display_name": "Python 3 (ipykernel)",
   "language": "python",
   "name": "python3"
  },
  "language_info": {
   "codemirror_mode": {
    "name": "ipython",
    "version": 3
   },
   "file_extension": ".py",
   "mimetype": "text/x-python",
   "name": "python",
   "nbconvert_exporter": "python",
   "pygments_lexer": "ipython3",
   "version": "3.9.12"
  }
 },
 "nbformat": 4,
 "nbformat_minor": 5
}
